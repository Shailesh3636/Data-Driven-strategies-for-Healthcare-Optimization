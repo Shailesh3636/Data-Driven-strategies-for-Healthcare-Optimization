{
 "cells": [
  {
   "cell_type": "markdown",
   "metadata": {
    "id": "ZNkIOkfGap_p"
   },
   "source": [
    "# Import Packages"
   ]
  },
  {
   "cell_type": "code",
   "execution_count": 1,
   "metadata": {
    "_cell_guid": "b1076dfc-b9ad-4769-8c92-a6c4dae69d19",
    "_uuid": "8f2839f25d086af736a60e9eeb907d3b93b6e0e5",
    "executionInfo": {
     "elapsed": 9593,
     "status": "ok",
     "timestamp": 1680866052631,
     "user": {
      "displayName": "pantech e learning",
      "userId": "02085171050783995221"
     },
     "user_tz": -330
    },
    "id": "lXAmlLeNap_x"
   },
   "outputs": [],
   "source": [
    "import numpy as np\n",
    "import os\n",
    "from sklearn.metrics import confusion_matrix\n",
    "import seaborn as sn; sn.set(font_scale=1.4)\n",
    "from sklearn.utils import shuffle           \n",
    "import matplotlib.pyplot as plt             \n",
    "import cv2                                 \n",
    "import tensorflow as tf                \n",
    "from tqdm import tqdm"
   ]
  },
  {
   "cell_type": "code",
   "execution_count": 2,
   "metadata": {
    "executionInfo": {
     "elapsed": 576,
     "status": "ok",
     "timestamp": 1680867205390,
     "user": {
      "displayName": "pantech e learning",
      "userId": "02085171050783995221"
     },
     "user_tz": -330
    },
    "id": "YtWLnK5dap_z"
   },
   "outputs": [],
   "source": [
    "class_names = ['pituitary_tumor','no_tumor','meningioma_tumor','glioma_tumor']\n",
    "class_names_label = {class_name:i for i, class_name in enumerate(class_names)}\n",
    "\n",
    "nb_classes = len(class_names)\n",
    "\n",
    "IMAGE_SIZE = (150, 150)"
   ]
  },
  {
   "cell_type": "markdown",
   "metadata": {
    "id": "nSlHLSs5ap_0"
   },
   "source": [
    "# Loading the Data\n",
    "We have to write a load_data function that load the images and the labels from the folder."
   ]
  },
  {
   "cell_type": "code",
   "execution_count": 7,
   "metadata": {
    "executionInfo": {
     "elapsed": 9,
     "status": "ok",
     "timestamp": 1680867214923,
     "user": {
      "displayName": "pantech e learning",
      "userId": "02085171050783995221"
     },
     "user_tz": -330
    },
    "id": "TIFoJqjFap_0"
   },
   "outputs": [],
   "source": [
    "def load_data():\n",
    "    datasets = [r\"D:\\Projects\\HealthPulse  Data Driven strategies for Healthcare Optimization\\Brain Tumor\\Training\", r\"D:\\Projects\\HealthPulse  Data Driven strategies for Healthcare Optimization\\Brain Tumor\\Testing\"]\n",
    "    \n",
    "    output = []\n",
    "    \n",
    "    # Iterate through training and test sets\n",
    "    for dataset in datasets:\n",
    "        \n",
    "        images = []\n",
    "        labels = []\n",
    "        \n",
    "        print(\"Loading {}\".format(dataset))\n",
    "        \n",
    "        # Iterate through each folder corresponding to a category\n",
    "        for folder in os.listdir(dataset):\n",
    "            label = class_names_label[folder]\n",
    "            \n",
    "            # Iterate through each image in our folder\n",
    "            for file in tqdm(os.listdir(os.path.join(dataset, folder))):\n",
    "                \n",
    "                # Get the path name of the image\n",
    "                img_path = os.path.join(os.path.join(dataset, folder), file)\n",
    "                \n",
    "                # Open and resize the img\n",
    "                image = cv2.imread(img_path)\n",
    "                image = cv2.cvtColor(image, cv2.COLOR_BGR2RGB)\n",
    "                image = cv2.resize(image, IMAGE_SIZE) \n",
    "                \n",
    "                # Append the image and its corresponding label to the output\n",
    "                images.append(image)\n",
    "                labels.append(label)\n",
    "                \n",
    "        images = np.array(images, dtype = 'float32')\n",
    "        labels = np.array(labels, dtype = 'int32')   \n",
    "        \n",
    "        output.append((images, labels))\n",
    "\n",
    "    return output"
   ]
  },
  {
   "cell_type": "code",
   "execution_count": 8,
   "metadata": {
    "colab": {
     "base_uri": "https://localhost:8080/"
    },
    "executionInfo": {
     "elapsed": 108835,
     "status": "ok",
     "timestamp": 1680867323750,
     "user": {
      "displayName": "pantech e learning",
      "userId": "02085171050783995221"
     },
     "user_tz": -330
    },
    "id": "7nLXcSDXap_2",
    "outputId": "3bb2a775-ac6c-4173-d5a1-d9a1a2b423f6"
   },
   "outputs": [
    {
     "name": "stdout",
     "output_type": "stream",
     "text": [
      "Loading D:\\Projects\\HealthPulse  Data Driven strategies for Healthcare Optimization\\Brain Tumor\\Training\n"
     ]
    },
    {
     "name": "stderr",
     "output_type": "stream",
     "text": [
      "100%|████████████████████████████████████████████████████████████████████████████████| 826/826 [00:15<00:00, 53.81it/s]\n",
      "100%|████████████████████████████████████████████████████████████████████████████████| 822/822 [00:15<00:00, 54.32it/s]\n",
      "100%|████████████████████████████████████████████████████████████████████████████████| 395/395 [00:05<00:00, 70.90it/s]\n",
      "100%|████████████████████████████████████████████████████████████████████████████████| 827/827 [00:19<00:00, 42.95it/s]\n"
     ]
    },
    {
     "name": "stdout",
     "output_type": "stream",
     "text": [
      "Loading D:\\Projects\\HealthPulse  Data Driven strategies for Healthcare Optimization\\Brain Tumor\\Testing\n"
     ]
    },
    {
     "name": "stderr",
     "output_type": "stream",
     "text": [
      "100%|████████████████████████████████████████████████████████████████████████████████| 100/100 [00:01<00:00, 73.82it/s]\n",
      "100%|████████████████████████████████████████████████████████████████████████████████| 115/115 [00:01<00:00, 90.38it/s]\n",
      "100%|████████████████████████████████████████████████████████████████████████████████| 105/105 [00:01<00:00, 69.10it/s]\n",
      "100%|██████████████████████████████████████████████████████████████████████████████████| 74/74 [00:02<00:00, 33.23it/s]\n"
     ]
    }
   ],
   "source": [
    "(train_images, train_labels), (test_images, test_labels) = load_data()"
   ]
  },
  {
   "cell_type": "code",
   "execution_count": 9,
   "metadata": {
    "executionInfo": {
     "elapsed": 667,
     "status": "ok",
     "timestamp": 1680867461660,
     "user": {
      "displayName": "pantech e learning",
      "userId": "02085171050783995221"
     },
     "user_tz": -330
    },
    "id": "LEwNDXCmap_3"
   },
   "outputs": [],
   "source": [
    "train_images, train_labels = shuffle(train_images, train_labels, random_state=25)"
   ]
  },
  {
   "cell_type": "code",
   "execution_count": 10,
   "metadata": {
    "colab": {
     "base_uri": "https://localhost:8080/"
    },
    "executionInfo": {
     "elapsed": 423,
     "status": "ok",
     "timestamp": 1680867472283,
     "user": {
      "displayName": "pantech e learning",
      "userId": "02085171050783995221"
     },
     "user_tz": -330
    },
    "id": "TM54kwL8ap_4",
    "outputId": "4e0d9f02-eed3-4152-e06a-2cfa74d2f2f7"
   },
   "outputs": [
    {
     "name": "stdout",
     "output_type": "stream",
     "text": [
      "Number of training examples: 2870\n",
      "Number of testing examples: 394\n",
      "Each image is of size: (150, 150)\n"
     ]
    }
   ],
   "source": [
    "n_train = train_labels.shape[0]\n",
    "n_test = test_labels.shape[0]\n",
    "\n",
    "print (\"Number of training examples: {}\".format(n_train))\n",
    "print (\"Number of testing examples: {}\".format(n_test))\n",
    "print (\"Each image is of size: {}\".format(IMAGE_SIZE))"
   ]
  },
  {
   "cell_type": "code",
   "execution_count": 11,
   "metadata": {
    "executionInfo": {
     "elapsed": 10,
     "status": "ok",
     "timestamp": 1680867482300,
     "user": {
      "displayName": "pantech e learning",
      "userId": "02085171050783995221"
     },
     "user_tz": -330
    },
    "id": "Ii-GCEE_ap_5"
   },
   "outputs": [],
   "source": [
    "train_images = train_images / 255.0 \n",
    "test_images = test_images / 255.0"
   ]
  },
  {
   "cell_type": "code",
   "execution_count": 12,
   "metadata": {
    "executionInfo": {
     "elapsed": 874,
     "status": "ok",
     "timestamp": 1680867515241,
     "user": {
      "displayName": "pantech e learning",
      "userId": "02085171050783995221"
     },
     "user_tz": -330
    },
    "id": "PoaDPS5Cap_7"
   },
   "outputs": [],
   "source": [
    "model = tf.keras.Sequential([\n",
    "    tf.keras.layers.Conv2D(32, (3, 3), activation = 'relu', input_shape = (150, 150, 3)), \n",
    "    tf.keras.layers.MaxPooling2D(2,2),\n",
    "    tf.keras.layers.Conv2D(32, (3, 3), activation = 'relu'),\n",
    "    tf.keras.layers.MaxPooling2D(2,2),\n",
    "    tf.keras.layers.Flatten(),\n",
    "    tf.keras.layers.Dense(128, activation=tf.nn.relu),\n",
    "    tf.keras.layers.Dense(4, activation=tf.nn.softmax)\n",
    "])"
   ]
  },
  {
   "cell_type": "code",
   "execution_count": 13,
   "metadata": {
    "executionInfo": {
     "elapsed": 3,
     "status": "ok",
     "timestamp": 1680867516174,
     "user": {
      "displayName": "pantech e learning",
      "userId": "02085171050783995221"
     },
     "user_tz": -330
    },
    "id": "r55vFdS4ap_8"
   },
   "outputs": [],
   "source": [
    "model.compile(optimizer = 'adam', loss = 'sparse_categorical_crossentropy', metrics=['accuracy'])"
   ]
  },
  {
   "cell_type": "code",
   "execution_count": 14,
   "metadata": {
    "colab": {
     "base_uri": "https://localhost:8080/"
    },
    "executionInfo": {
     "elapsed": 83718,
     "status": "ok",
     "timestamp": 1680867794670,
     "user": {
      "displayName": "pantech e learning",
      "userId": "02085171050783995221"
     },
     "user_tz": -330
    },
    "id": "EHGQC64iap_8",
    "outputId": "5b7c059e-921d-4f00-d9dd-7c63f90653ca"
   },
   "outputs": [
    {
     "name": "stdout",
     "output_type": "stream",
     "text": [
      "Epoch 1/10\n",
      "18/18 [==============================] - 40s 2s/step - loss: 1.3888 - accuracy: 0.4534 - val_loss: 0.9132 - val_accuracy: 0.6045\n",
      "Epoch 2/10\n",
      "18/18 [==============================] - 35s 2s/step - loss: 0.7275 - accuracy: 0.7030 - val_loss: 0.7524 - val_accuracy: 0.6516\n",
      "Epoch 3/10\n",
      "18/18 [==============================] - 35s 2s/step - loss: 0.4790 - accuracy: 0.8127 - val_loss: 0.6083 - val_accuracy: 0.7927\n",
      "Epoch 4/10\n",
      "18/18 [==============================] - 33s 2s/step - loss: 0.3100 - accuracy: 0.8937 - val_loss: 0.5187 - val_accuracy: 0.8449\n",
      "Epoch 5/10\n",
      "18/18 [==============================] - 34s 2s/step - loss: 0.2104 - accuracy: 0.9316 - val_loss: 0.4605 - val_accuracy: 0.8606\n",
      "Epoch 6/10\n",
      "18/18 [==============================] - 35s 2s/step - loss: 0.1307 - accuracy: 0.9652 - val_loss: 0.4421 - val_accuracy: 0.8624\n",
      "Epoch 7/10\n",
      "18/18 [==============================] - 36s 2s/step - loss: 0.0733 - accuracy: 0.9843 - val_loss: 0.4033 - val_accuracy: 0.8833\n",
      "Epoch 8/10\n",
      "18/18 [==============================] - 35s 2s/step - loss: 0.0419 - accuracy: 0.9961 - val_loss: 0.4835 - val_accuracy: 0.8659\n",
      "Epoch 9/10\n",
      "18/18 [==============================] - 34s 2s/step - loss: 0.0278 - accuracy: 0.9987 - val_loss: 0.4795 - val_accuracy: 0.8728\n",
      "Epoch 10/10\n",
      "18/18 [==============================] - 35s 2s/step - loss: 0.0161 - accuracy: 0.9996 - val_loss: 0.5025 - val_accuracy: 0.8833\n"
     ]
    }
   ],
   "source": [
    "history = model.fit(train_images, train_labels, batch_size=128, epochs=10, validation_split = 0.2)"
   ]
  },
  {
   "cell_type": "code",
   "execution_count": 16,
   "metadata": {
    "colab": {
     "base_uri": "https://localhost:8080/"
    },
    "executionInfo": {
     "elapsed": 5386,
     "status": "ok",
     "timestamp": 1680867800052,
     "user": {
      "displayName": "pantech e learning",
      "userId": "02085171050783995221"
     },
     "user_tz": -330
    },
    "id": "yF0BZ4swap_8",
    "outputId": "211fc2b8-bd77-4b10-b1ba-e248e6b0a21f"
   },
   "outputs": [
    {
     "name": "stdout",
     "output_type": "stream",
     "text": [
      "13/13 [==============================] - 1s 97ms/step - loss: 3.9444 - accuracy: 0.7259\n"
     ]
    }
   ],
   "source": [
    "test_loss = model.evaluate(test_images, test_labels)"
   ]
  },
  {
   "cell_type": "code",
   "execution_count": 17,
   "metadata": {
    "colab": {
     "base_uri": "https://localhost:8080/",
     "height": 449
    },
    "executionInfo": {
     "elapsed": 5340,
     "status": "ok",
     "timestamp": 1680868693395,
     "user": {
      "displayName": "pantech e learning",
      "userId": "02085171050783995221"
     },
     "user_tz": -330
    },
    "id": "Jp5L30dhap_8",
    "outputId": "80a1c7c6-3236-4601-ad61-5a20241c0578"
   },
   "outputs": [
    {
     "name": "stdout",
     "output_type": "stream",
     "text": [
      "13/13 [==============================] - 2s 99ms/step\n"
     ]
    }
   ],
   "source": [
    "predictions = model.predict(test_images)     # Vector of probabilities\n",
    "pred_labels = np.argmax(predictions, axis = 1) # We take the highest probability\n",
    "\n"
   ]
  },
  {
   "cell_type": "code",
   "execution_count": 18,
   "metadata": {
    "colab": {
     "base_uri": "https://localhost:8080/",
     "height": 904
    },
    "executionInfo": {
     "elapsed": 1523,
     "status": "ok",
     "timestamp": 1680867928872,
     "user": {
      "displayName": "pantech e learning",
      "userId": "02085171050783995221"
     },
     "user_tz": -330
    },
    "id": "kK85jm6tap_9",
    "outputId": "7318dee8-5596-4ee5-e13c-67970d0e750f"
   },
   "outputs": [
    {
     "data": {
      "image/png": "[encoded data removed]",
      "text/plain": [
       "<Figure size 640x480 with 2 Axes>"
      ]
     },
     "metadata": {},
     "output_type": "display_data"
    }
   ],
   "source": [
    "CM = confusion_matrix(test_labels, pred_labels)\n",
    "ax = plt.axes()\n",
    "sn.heatmap(CM, annot=True, \n",
    "           annot_kws={\"size\": 10}, \n",
    "           xticklabels=class_names, \n",
    "           yticklabels=class_names, ax = ax)\n",
    "ax.set_title('Confusion matrix')\n",
    "plt.show()"
   ]
  },
  {
   "cell_type": "code",
   "execution_count": 18,
   "metadata": {},
   "outputs": [],
   "source": [
    "model_json=model.to_json()\n",
    "with open(\"model_tumor.json\", \"w\") as json_file:\n",
    "    json_file.write(model_json)"
   ]
  },
  {
   "cell_type": "code",
   "execution_count": 1,
   "metadata": {},
   "outputs": [],
   "source": [
    "import joblib"
   ]
  },
  {
   "cell_type": "code",
   "execution_count": null,
   "metadata": {
    "collapsed": true
   },
   "outputs": [],
   "source": []
  }
 ],
 "metadata": {
  "colab": {
   "provenance": []
  },
  "kernelspec": {
   "display_name": "Python 3 (ipykernel)",
   "language": "python",
   "name": "python3"
  },
  "language_info": {
   "codemirror_mode": {
    "name": "ipython",
    "version": 3
   },
   "file_extension": ".py",
   "mimetype": "text/x-python",
   "name": "python",
   "nbconvert_exporter": "python",
   "pygments_lexer": "ipython3",
   "version": "3.11.5"
  }
 },
 "nbformat": 4,
 "nbformat_minor": 1
}
