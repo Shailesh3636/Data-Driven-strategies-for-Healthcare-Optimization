{
 "cells": [
  {
   "cell_type": "code",
   "execution_count": 3,
   "id": "557993fc",
   "metadata": {},
   "outputs": [],
   "source": [
    "import pandas as pd\n",
    "import numpy as np"
   ]
  },
  {
   "cell_type": "code",
   "execution_count": 4,
   "id": "5eadf450",
   "metadata": {},
   "outputs": [],
   "source": [
    "df = pd.read_csv(r\"D:\\Projects\\HealthPulse  Data Driven strategies for Healthcare Optimization\\Heart\\Heart Disease.csv\")"
   ]
  },
  {
   "cell_type": "code",
   "execution_count": 5,
   "id": "72e8327f",
   "metadata": {},
   "outputs": [
    {
     "data": {
      "text/plain": [
       "(920, 17)"
      ]
     },
     "execution_count": 5,
     "metadata": {},
     "output_type": "execute_result"
    }
   ],
   "source": [
    "df.shape"
   ]
  },
  {
   "cell_type": "code",
   "execution_count": 6,
   "id": "3452c821",
   "metadata": {},
   "outputs": [
    {
     "data": {
      "text/html": [
       "<div>\n",
       "<style scoped>\n",
       "    .dataframe tbody tr th:only-of-type {\n",
       "        vertical-align: middle;\n",
       "    }\n",
       "\n",
       "    .dataframe tbody tr th {\n",
       "        vertical-align: top;\n",
       "    }\n",
       "\n",
       "    .dataframe thead th {\n",
       "        text-align: right;\n",
       "    }\n",
       "</style>\n",
       "<table border=\"1\" class=\"dataframe\">\n",
       "  <thead>\n",
       "    <tr style=\"text-align: right;\">\n",
       "      <th></th>\n",
       "      <th>Unnamed: 0</th>\n",
       "      <th>id</th>\n",
       "      <th>age</th>\n",
       "      <th>sex</th>\n",
       "      <th>dataset</th>\n",
       "      <th>cp</th>\n",
       "      <th>trestbps</th>\n",
       "      <th>chol</th>\n",
       "      <th>fbs</th>\n",
       "      <th>restecg</th>\n",
       "      <th>thalch</th>\n",
       "      <th>exang</th>\n",
       "      <th>oldpeak</th>\n",
       "      <th>slope</th>\n",
       "      <th>ca</th>\n",
       "      <th>num</th>\n",
       "      <th>BMI</th>\n",
       "    </tr>\n",
       "  </thead>\n",
       "  <tbody>\n",
       "    <tr>\n",
       "      <th>0</th>\n",
       "      <td>0</td>\n",
       "      <td>1</td>\n",
       "      <td>63</td>\n",
       "      <td>Male</td>\n",
       "      <td>Cleveland</td>\n",
       "      <td>typical angina</td>\n",
       "      <td>145.0</td>\n",
       "      <td>233.0</td>\n",
       "      <td>True</td>\n",
       "      <td>lv hypertrophy</td>\n",
       "      <td>150.0</td>\n",
       "      <td>False</td>\n",
       "      <td>2.3</td>\n",
       "      <td>downsloping</td>\n",
       "      <td>0.0</td>\n",
       "      <td>0</td>\n",
       "      <td>18</td>\n",
       "    </tr>\n",
       "    <tr>\n",
       "      <th>1</th>\n",
       "      <td>1</td>\n",
       "      <td>2</td>\n",
       "      <td>67</td>\n",
       "      <td>Male</td>\n",
       "      <td>Cleveland</td>\n",
       "      <td>asymptomatic</td>\n",
       "      <td>160.0</td>\n",
       "      <td>286.0</td>\n",
       "      <td>False</td>\n",
       "      <td>lv hypertrophy</td>\n",
       "      <td>108.0</td>\n",
       "      <td>True</td>\n",
       "      <td>1.5</td>\n",
       "      <td>flat</td>\n",
       "      <td>3.0</td>\n",
       "      <td>2</td>\n",
       "      <td>29</td>\n",
       "    </tr>\n",
       "    <tr>\n",
       "      <th>2</th>\n",
       "      <td>2</td>\n",
       "      <td>3</td>\n",
       "      <td>67</td>\n",
       "      <td>Male</td>\n",
       "      <td>Cleveland</td>\n",
       "      <td>asymptomatic</td>\n",
       "      <td>120.0</td>\n",
       "      <td>229.0</td>\n",
       "      <td>False</td>\n",
       "      <td>lv hypertrophy</td>\n",
       "      <td>129.0</td>\n",
       "      <td>True</td>\n",
       "      <td>2.6</td>\n",
       "      <td>flat</td>\n",
       "      <td>2.0</td>\n",
       "      <td>1</td>\n",
       "      <td>22</td>\n",
       "    </tr>\n",
       "    <tr>\n",
       "      <th>3</th>\n",
       "      <td>3</td>\n",
       "      <td>4</td>\n",
       "      <td>37</td>\n",
       "      <td>Male</td>\n",
       "      <td>Cleveland</td>\n",
       "      <td>non-anginal</td>\n",
       "      <td>130.0</td>\n",
       "      <td>250.0</td>\n",
       "      <td>False</td>\n",
       "      <td>normal</td>\n",
       "      <td>187.0</td>\n",
       "      <td>False</td>\n",
       "      <td>3.5</td>\n",
       "      <td>downsloping</td>\n",
       "      <td>0.0</td>\n",
       "      <td>0</td>\n",
       "      <td>20</td>\n",
       "    </tr>\n",
       "    <tr>\n",
       "      <th>4</th>\n",
       "      <td>4</td>\n",
       "      <td>5</td>\n",
       "      <td>41</td>\n",
       "      <td>Female</td>\n",
       "      <td>Cleveland</td>\n",
       "      <td>atypical angina</td>\n",
       "      <td>130.0</td>\n",
       "      <td>204.0</td>\n",
       "      <td>False</td>\n",
       "      <td>lv hypertrophy</td>\n",
       "      <td>172.0</td>\n",
       "      <td>False</td>\n",
       "      <td>1.4</td>\n",
       "      <td>upsloping</td>\n",
       "      <td>0.0</td>\n",
       "      <td>0</td>\n",
       "      <td>18</td>\n",
       "    </tr>\n",
       "  </tbody>\n",
       "</table>\n",
       "</div>"
      ],
      "text/plain": [
       "   Unnamed: 0  id  age     sex    dataset               cp  trestbps   chol  \\\n",
       "0           0   1   63    Male  Cleveland   typical angina     145.0  233.0   \n",
       "1           1   2   67    Male  Cleveland     asymptomatic     160.0  286.0   \n",
       "2           2   3   67    Male  Cleveland     asymptomatic     120.0  229.0   \n",
       "3           3   4   37    Male  Cleveland      non-anginal     130.0  250.0   \n",
       "4           4   5   41  Female  Cleveland  atypical angina     130.0  204.0   \n",
       "\n",
       "     fbs         restecg  thalch  exang  oldpeak        slope   ca  num  BMI  \n",
       "0   True  lv hypertrophy   150.0  False      2.3  downsloping  0.0    0   18  \n",
       "1  False  lv hypertrophy   108.0   True      1.5         flat  3.0    2   29  \n",
       "2  False  lv hypertrophy   129.0   True      2.6         flat  2.0    1   22  \n",
       "3  False          normal   187.0  False      3.5  downsloping  0.0    0   20  \n",
       "4  False  lv hypertrophy   172.0  False      1.4    upsloping  0.0    0   18  "
      ]
     },
     "execution_count": 6,
     "metadata": {},
     "output_type": "execute_result"
    }
   ],
   "source": [
    "df.head()"
   ]
  },
  {
   "cell_type": "code",
   "execution_count": 7,
   "id": "ba922269",
   "metadata": {},
   "outputs": [
    {
     "name": "stdout",
     "output_type": "stream",
     "text": [
      "<class 'pandas.core.frame.DataFrame'>\n",
      "RangeIndex: 920 entries, 0 to 919\n",
      "Data columns (total 17 columns):\n",
      " #   Column      Non-Null Count  Dtype  \n",
      "---  ------      --------------  -----  \n",
      " 0   Unnamed: 0  920 non-null    int64  \n",
      " 1   id          920 non-null    int64  \n",
      " 2   age         920 non-null    int64  \n",
      " 3   sex         920 non-null    object \n",
      " 4   dataset     920 non-null    object \n",
      " 5   cp          920 non-null    object \n",
      " 6   trestbps    861 non-null    float64\n",
      " 7   chol        890 non-null    float64\n",
      " 8   fbs         830 non-null    object \n",
      " 9   restecg     918 non-null    object \n",
      " 10  thalch      865 non-null    float64\n",
      " 11  exang       865 non-null    object \n",
      " 12  oldpeak     858 non-null    float64\n",
      " 13  slope       611 non-null    object \n",
      " 14  ca          309 non-null    float64\n",
      " 15  num         920 non-null    int64  \n",
      " 16  BMI         920 non-null    int64  \n",
      "dtypes: float64(5), int64(5), object(7)\n",
      "memory usage: 122.3+ KB\n"
     ]
    }
   ],
   "source": [
    "df.info()"
   ]
  },
  {
   "cell_type": "code",
   "execution_count": 10,
   "id": "816c0957",
   "metadata": {},
   "outputs": [
    {
     "data": {
      "text/plain": [
       "ca            611\n",
       "slope         309\n",
       "fbs            90\n",
       "oldpeak        62\n",
       "trestbps       59\n",
       "thalch         55\n",
       "exang          55\n",
       "chol           30\n",
       "restecg         2\n",
       "num             0\n",
       "Unnamed: 0      0\n",
       "id              0\n",
       "cp              0\n",
       "dataset         0\n",
       "sex             0\n",
       "age             0\n",
       "BMI             0\n",
       "dtype: int64"
      ]
     },
     "execution_count": 10,
     "metadata": {},
     "output_type": "execute_result"
    }
   ],
   "source": [
    "df.isnull().sum().sort_values(ascending=False)"
   ]
  },
  {
   "cell_type": "code",
   "execution_count": 11,
   "id": "89976967",
   "metadata": {},
   "outputs": [
    {
     "name": "stdout",
     "output_type": "stream",
     "text": [
      "<class 'pandas.core.series.Series'>\n",
      "RangeIndex: 920 entries, 0 to 919\n",
      "Series name: thalch\n",
      "Non-Null Count  Dtype  \n",
      "--------------  -----  \n",
      "865 non-null    float64\n",
      "dtypes: float64(1)\n",
      "memory usage: 7.3 KB\n"
     ]
    }
   ],
   "source": [
    "df['thalch'].info()"
   ]
  },
  {
   "cell_type": "code",
   "execution_count": 12,
   "id": "b1dc4f57",
   "metadata": {},
   "outputs": [
    {
     "data": {
      "text/plain": [
       "exang\n",
       "False    528\n",
       "True     337\n",
       "Name: count, dtype: int64"
      ]
     },
     "execution_count": 12,
     "metadata": {},
     "output_type": "execute_result"
    }
   ],
   "source": [
    "df['exang'].value_counts()"
   ]
  },
  {
   "cell_type": "code",
   "execution_count": 13,
   "id": "894ebe0d",
   "metadata": {},
   "outputs": [
    {
     "data": {
      "text/plain": [
       "count    858.000000\n",
       "mean       0.878788\n",
       "std        1.091226\n",
       "min       -2.600000\n",
       "25%        0.000000\n",
       "50%        0.500000\n",
       "75%        1.500000\n",
       "max        6.200000\n",
       "Name: oldpeak, dtype: float64"
      ]
     },
     "execution_count": 13,
     "metadata": {},
     "output_type": "execute_result"
    }
   ],
   "source": [
    "df['oldpeak'].describe()"
   ]
  },
  {
   "cell_type": "code",
   "execution_count": 14,
   "id": "adc46411",
   "metadata": {},
   "outputs": [
    {
     "data": {
      "text/plain": [
       "slope\n",
       "flat           345\n",
       "upsloping      203\n",
       "downsloping     63\n",
       "Name: count, dtype: int64"
      ]
     },
     "execution_count": 14,
     "metadata": {},
     "output_type": "execute_result"
    }
   ],
   "source": [
    "df['slope'].value_counts()"
   ]
  },
  {
   "cell_type": "code",
   "execution_count": 15,
   "id": "b92930bb",
   "metadata": {},
   "outputs": [
    {
     "data": {
      "text/plain": [
       "ca\n",
       "0.0    181\n",
       "1.0     67\n",
       "2.0     41\n",
       "3.0     20\n",
       "Name: count, dtype: int64"
      ]
     },
     "execution_count": 15,
     "metadata": {},
     "output_type": "execute_result"
    }
   ],
   "source": [
    "df['ca'].value_counts()"
   ]
  },
  {
   "cell_type": "code",
   "execution_count": 16,
   "id": "4edab3fe",
   "metadata": {},
   "outputs": [
    {
     "data": {
      "text/plain": [
       "array([0, 2, 1, 3, 4], dtype=int64)"
      ]
     },
     "execution_count": 16,
     "metadata": {},
     "output_type": "execute_result"
    }
   ],
   "source": [
    "df['num'].unique()"
   ]
  },
  {
   "cell_type": "code",
   "execution_count": 20,
   "id": "2e141b72",
   "metadata": {},
   "outputs": [],
   "source": [
    "df['restecg'] = df['restecg'].apply(lambda x:0 if x=='normal' else( 1 if x=='lv hypertrophy' else 2) )"
   ]
  },
  {
   "cell_type": "code",
   "execution_count": 21,
   "id": "9fe30b31",
   "metadata": {},
   "outputs": [],
   "source": [
    "df['slope']= df['slope'].apply(lambda x:0 if x=='flat' else( 1 if x=='upsloping' else 2) )"
   ]
  },
  {
   "cell_type": "code",
   "execution_count": 22,
   "id": "d5629ba3",
   "metadata": {},
   "outputs": [],
   "source": [
    "df.drop(['id','dataset'],axis=1,inplace=True)"
   ]
  },
  {
   "cell_type": "code",
   "execution_count": 23,
   "id": "50910313",
   "metadata": {},
   "outputs": [
    {
     "data": {
      "text/html": [
       "<div>\n",
       "<style scoped>\n",
       "    .dataframe tbody tr th:only-of-type {\n",
       "        vertical-align: middle;\n",
       "    }\n",
       "\n",
       "    .dataframe tbody tr th {\n",
       "        vertical-align: top;\n",
       "    }\n",
       "\n",
       "    .dataframe thead th {\n",
       "        text-align: right;\n",
       "    }\n",
       "</style>\n",
       "<table border=\"1\" class=\"dataframe\">\n",
       "  <thead>\n",
       "    <tr style=\"text-align: right;\">\n",
       "      <th></th>\n",
       "      <th>Unnamed: 0</th>\n",
       "      <th>age</th>\n",
       "      <th>sex</th>\n",
       "      <th>cp</th>\n",
       "      <th>trestbps</th>\n",
       "      <th>chol</th>\n",
       "      <th>fbs</th>\n",
       "      <th>restecg</th>\n",
       "      <th>thalch</th>\n",
       "      <th>exang</th>\n",
       "      <th>oldpeak</th>\n",
       "      <th>slope</th>\n",
       "      <th>ca</th>\n",
       "      <th>num</th>\n",
       "      <th>BMI</th>\n",
       "    </tr>\n",
       "  </thead>\n",
       "  <tbody>\n",
       "    <tr>\n",
       "      <th>0</th>\n",
       "      <td>0</td>\n",
       "      <td>63</td>\n",
       "      <td>Male</td>\n",
       "      <td>typical angina</td>\n",
       "      <td>145.0</td>\n",
       "      <td>233.0</td>\n",
       "      <td>True</td>\n",
       "      <td>1</td>\n",
       "      <td>150.0</td>\n",
       "      <td>False</td>\n",
       "      <td>2.3</td>\n",
       "      <td>2</td>\n",
       "      <td>0.0</td>\n",
       "      <td>0</td>\n",
       "      <td>18</td>\n",
       "    </tr>\n",
       "    <tr>\n",
       "      <th>1</th>\n",
       "      <td>1</td>\n",
       "      <td>67</td>\n",
       "      <td>Male</td>\n",
       "      <td>asymptomatic</td>\n",
       "      <td>160.0</td>\n",
       "      <td>286.0</td>\n",
       "      <td>False</td>\n",
       "      <td>1</td>\n",
       "      <td>108.0</td>\n",
       "      <td>True</td>\n",
       "      <td>1.5</td>\n",
       "      <td>0</td>\n",
       "      <td>3.0</td>\n",
       "      <td>2</td>\n",
       "      <td>29</td>\n",
       "    </tr>\n",
       "    <tr>\n",
       "      <th>2</th>\n",
       "      <td>2</td>\n",
       "      <td>67</td>\n",
       "      <td>Male</td>\n",
       "      <td>asymptomatic</td>\n",
       "      <td>120.0</td>\n",
       "      <td>229.0</td>\n",
       "      <td>False</td>\n",
       "      <td>1</td>\n",
       "      <td>129.0</td>\n",
       "      <td>True</td>\n",
       "      <td>2.6</td>\n",
       "      <td>0</td>\n",
       "      <td>2.0</td>\n",
       "      <td>1</td>\n",
       "      <td>22</td>\n",
       "    </tr>\n",
       "    <tr>\n",
       "      <th>3</th>\n",
       "      <td>3</td>\n",
       "      <td>37</td>\n",
       "      <td>Male</td>\n",
       "      <td>non-anginal</td>\n",
       "      <td>130.0</td>\n",
       "      <td>250.0</td>\n",
       "      <td>False</td>\n",
       "      <td>0</td>\n",
       "      <td>187.0</td>\n",
       "      <td>False</td>\n",
       "      <td>3.5</td>\n",
       "      <td>2</td>\n",
       "      <td>0.0</td>\n",
       "      <td>0</td>\n",
       "      <td>20</td>\n",
       "    </tr>\n",
       "    <tr>\n",
       "      <th>4</th>\n",
       "      <td>4</td>\n",
       "      <td>41</td>\n",
       "      <td>Female</td>\n",
       "      <td>atypical angina</td>\n",
       "      <td>130.0</td>\n",
       "      <td>204.0</td>\n",
       "      <td>False</td>\n",
       "      <td>1</td>\n",
       "      <td>172.0</td>\n",
       "      <td>False</td>\n",
       "      <td>1.4</td>\n",
       "      <td>1</td>\n",
       "      <td>0.0</td>\n",
       "      <td>0</td>\n",
       "      <td>18</td>\n",
       "    </tr>\n",
       "    <tr>\n",
       "      <th>...</th>\n",
       "      <td>...</td>\n",
       "      <td>...</td>\n",
       "      <td>...</td>\n",
       "      <td>...</td>\n",
       "      <td>...</td>\n",
       "      <td>...</td>\n",
       "      <td>...</td>\n",
       "      <td>...</td>\n",
       "      <td>...</td>\n",
       "      <td>...</td>\n",
       "      <td>...</td>\n",
       "      <td>...</td>\n",
       "      <td>...</td>\n",
       "      <td>...</td>\n",
       "      <td>...</td>\n",
       "    </tr>\n",
       "    <tr>\n",
       "      <th>915</th>\n",
       "      <td>915</td>\n",
       "      <td>54</td>\n",
       "      <td>Female</td>\n",
       "      <td>asymptomatic</td>\n",
       "      <td>127.0</td>\n",
       "      <td>333.0</td>\n",
       "      <td>True</td>\n",
       "      <td>2</td>\n",
       "      <td>154.0</td>\n",
       "      <td>False</td>\n",
       "      <td>0.0</td>\n",
       "      <td>2</td>\n",
       "      <td>NaN</td>\n",
       "      <td>1</td>\n",
       "      <td>19</td>\n",
       "    </tr>\n",
       "    <tr>\n",
       "      <th>916</th>\n",
       "      <td>916</td>\n",
       "      <td>62</td>\n",
       "      <td>Male</td>\n",
       "      <td>typical angina</td>\n",
       "      <td>NaN</td>\n",
       "      <td>139.0</td>\n",
       "      <td>False</td>\n",
       "      <td>2</td>\n",
       "      <td>NaN</td>\n",
       "      <td>NaN</td>\n",
       "      <td>NaN</td>\n",
       "      <td>2</td>\n",
       "      <td>NaN</td>\n",
       "      <td>0</td>\n",
       "      <td>19</td>\n",
       "    </tr>\n",
       "    <tr>\n",
       "      <th>917</th>\n",
       "      <td>917</td>\n",
       "      <td>55</td>\n",
       "      <td>Male</td>\n",
       "      <td>asymptomatic</td>\n",
       "      <td>122.0</td>\n",
       "      <td>223.0</td>\n",
       "      <td>True</td>\n",
       "      <td>2</td>\n",
       "      <td>100.0</td>\n",
       "      <td>False</td>\n",
       "      <td>0.0</td>\n",
       "      <td>2</td>\n",
       "      <td>NaN</td>\n",
       "      <td>2</td>\n",
       "      <td>27</td>\n",
       "    </tr>\n",
       "    <tr>\n",
       "      <th>918</th>\n",
       "      <td>918</td>\n",
       "      <td>58</td>\n",
       "      <td>Male</td>\n",
       "      <td>asymptomatic</td>\n",
       "      <td>NaN</td>\n",
       "      <td>385.0</td>\n",
       "      <td>True</td>\n",
       "      <td>1</td>\n",
       "      <td>NaN</td>\n",
       "      <td>NaN</td>\n",
       "      <td>NaN</td>\n",
       "      <td>2</td>\n",
       "      <td>NaN</td>\n",
       "      <td>0</td>\n",
       "      <td>20</td>\n",
       "    </tr>\n",
       "    <tr>\n",
       "      <th>919</th>\n",
       "      <td>919</td>\n",
       "      <td>62</td>\n",
       "      <td>Male</td>\n",
       "      <td>atypical angina</td>\n",
       "      <td>120.0</td>\n",
       "      <td>254.0</td>\n",
       "      <td>False</td>\n",
       "      <td>1</td>\n",
       "      <td>93.0</td>\n",
       "      <td>True</td>\n",
       "      <td>0.0</td>\n",
       "      <td>2</td>\n",
       "      <td>NaN</td>\n",
       "      <td>1</td>\n",
       "      <td>21</td>\n",
       "    </tr>\n",
       "  </tbody>\n",
       "</table>\n",
       "<p>920 rows × 15 columns</p>\n",
       "</div>"
      ],
      "text/plain": [
       "     Unnamed: 0  age     sex               cp  trestbps   chol    fbs  \\\n",
       "0             0   63    Male   typical angina     145.0  233.0   True   \n",
       "1             1   67    Male     asymptomatic     160.0  286.0  False   \n",
       "2             2   67    Male     asymptomatic     120.0  229.0  False   \n",
       "3             3   37    Male      non-anginal     130.0  250.0  False   \n",
       "4             4   41  Female  atypical angina     130.0  204.0  False   \n",
       "..          ...  ...     ...              ...       ...    ...    ...   \n",
       "915         915   54  Female     asymptomatic     127.0  333.0   True   \n",
       "916         916   62    Male   typical angina       NaN  139.0  False   \n",
       "917         917   55    Male     asymptomatic     122.0  223.0   True   \n",
       "918         918   58    Male     asymptomatic       NaN  385.0   True   \n",
       "919         919   62    Male  atypical angina     120.0  254.0  False   \n",
       "\n",
       "     restecg  thalch  exang  oldpeak  slope   ca  num  BMI  \n",
       "0          1   150.0  False      2.3      2  0.0    0   18  \n",
       "1          1   108.0   True      1.5      0  3.0    2   29  \n",
       "2          1   129.0   True      2.6      0  2.0    1   22  \n",
       "3          0   187.0  False      3.5      2  0.0    0   20  \n",
       "4          1   172.0  False      1.4      1  0.0    0   18  \n",
       "..       ...     ...    ...      ...    ...  ...  ...  ...  \n",
       "915        2   154.0  False      0.0      2  NaN    1   19  \n",
       "916        2     NaN    NaN      NaN      2  NaN    0   19  \n",
       "917        2   100.0  False      0.0      2  NaN    2   27  \n",
       "918        1     NaN    NaN      NaN      2  NaN    0   20  \n",
       "919        1    93.0   True      0.0      2  NaN    1   21  \n",
       "\n",
       "[920 rows x 15 columns]"
      ]
     },
     "execution_count": 23,
     "metadata": {},
     "output_type": "execute_result"
    }
   ],
   "source": [
    "df"
   ]
  },
  {
   "cell_type": "code",
   "execution_count": 24,
   "id": "3bdf39fe",
   "metadata": {},
   "outputs": [],
   "source": [
    "data = pd.DataFrame({\n",
    "    \"Age\": df['age'],\n",
    "    \"trestbps\": df['trestbps'],\n",
    "    \"chol\": df['chol'],\n",
    "    \"thalch\":df['thalch'],\n",
    "    \"oldpeak\":df['oldpeak'],\n",
    "    \"slope\":df['slope'],\n",
    "    \"ca\":df['ca']\n",
    "    \n",
    "})\n"
   ]
  },
  {
   "cell_type": "code",
   "execution_count": 25,
   "id": "748ba544",
   "metadata": {},
   "outputs": [
    {
     "data": {
      "text/plain": [
       "<Axes: >"
      ]
     },
     "execution_count": 25,
     "metadata": {},
     "output_type": "execute_result"
    },
    {
     "data": {
      "image/png": "[encoded data removed]",
      "text/plain": [
       "<Figure size 640x480 with 1 Axes>"
      ]
     },
     "metadata": {},
     "output_type": "display_data"
    }
   ],
   "source": [
    "sns.boxplot(data=data)"
   ]
  },
  {
   "cell_type": "code",
   "execution_count": 26,
   "id": "7dd9c3ad",
   "metadata": {},
   "outputs": [
    {
     "data": {
      "image/png": "[encoded data removed]",
      "text/plain": [
       "<Figure size 1600x800 with 6 Axes>"
      ]
     },
     "metadata": {},
     "output_type": "display_data"
    }
   ],
   "source": [
    "plt.figure(figsize=(16,8))\n",
    "plt.subplot(2,3,1)\n",
    "sns.boxplot(df['age'])\n",
    "\n",
    "plt.subplot(2,3,2)\n",
    "sns.boxplot(df['trestbps'])\n",
    "\n",
    "plt.subplot(2,3,3)\n",
    "sns.boxplot(df['chol'])\n",
    "\n",
    "plt.subplot(2,3,4)\n",
    "sns.boxplot(df['thalch'])\n",
    "\n",
    "plt.subplot(2,3,5)\n",
    "sns.boxplot(df['oldpeak'])\n",
    "\n",
    "plt.subplot(2,3,6)\n",
    "sns.boxplot(df['ca'])\n",
    "\n",
    "\n",
    "plt.show()"
   ]
  },
  {
   "cell_type": "code",
   "execution_count": 27,
   "id": "147fd0c0",
   "metadata": {},
   "outputs": [
    {
     "name": "stderr",
     "output_type": "stream",
     "text": [
      "C:\\Users\\dsail\\AppData\\Local\\Temp\\ipykernel_4396\\2861911815.py:3: UserWarning: \n",
      "\n",
      "`distplot` is a deprecated function and will be removed in seaborn v0.14.0.\n",
      "\n",
      "Please adapt your code to use either `displot` (a figure-level function with\n",
      "similar flexibility) or `histplot` (an axes-level function for histograms).\n",
      "\n",
      "For a guide to updating your code to use the new functions, please see\n",
      "https://gist.github.com/mwaskom/de44147ed2974457ad6372750bbe5751\n",
      "\n",
      "  sns.distplot(df['age'])\n",
      "C:\\Users\\dsail\\AppData\\Local\\Temp\\ipykernel_4396\\2861911815.py:6: UserWarning: \n",
      "\n",
      "`distplot` is a deprecated function and will be removed in seaborn v0.14.0.\n",
      "\n",
      "Please adapt your code to use either `displot` (a figure-level function with\n",
      "similar flexibility) or `histplot` (an axes-level function for histograms).\n",
      "\n",
      "For a guide to updating your code to use the new functions, please see\n",
      "https://gist.github.com/mwaskom/de44147ed2974457ad6372750bbe5751\n",
      "\n",
      "  sns.distplot(df['trestbps'])\n",
      "C:\\Users\\dsail\\AppData\\Local\\Temp\\ipykernel_4396\\2861911815.py:9: UserWarning: \n",
      "\n",
      "`distplot` is a deprecated function and will be removed in seaborn v0.14.0.\n",
      "\n",
      "Please adapt your code to use either `displot` (a figure-level function with\n",
      "similar flexibility) or `histplot` (an axes-level function for histograms).\n",
      "\n",
      "For a guide to updating your code to use the new functions, please see\n",
      "https://gist.github.com/mwaskom/de44147ed2974457ad6372750bbe5751\n",
      "\n",
      "  sns.distplot(df['chol'])\n",
      "C:\\Users\\dsail\\AppData\\Local\\Temp\\ipykernel_4396\\2861911815.py:12: UserWarning: \n",
      "\n",
      "`distplot` is a deprecated function and will be removed in seaborn v0.14.0.\n",
      "\n",
      "Please adapt your code to use either `displot` (a figure-level function with\n",
      "similar flexibility) or `histplot` (an axes-level function for histograms).\n",
      "\n",
      "For a guide to updating your code to use the new functions, please see\n",
      "https://gist.github.com/mwaskom/de44147ed2974457ad6372750bbe5751\n",
      "\n",
      "  sns.distplot(df['thalch'])\n",
      "C:\\Users\\dsail\\AppData\\Local\\Temp\\ipykernel_4396\\2861911815.py:15: UserWarning: \n",
      "\n",
      "`distplot` is a deprecated function and will be removed in seaborn v0.14.0.\n",
      "\n",
      "Please adapt your code to use either `displot` (a figure-level function with\n",
      "similar flexibility) or `histplot` (an axes-level function for histograms).\n",
      "\n",
      "For a guide to updating your code to use the new functions, please see\n",
      "https://gist.github.com/mwaskom/de44147ed2974457ad6372750bbe5751\n",
      "\n",
      "  sns.distplot(df['oldpeak'])\n",
      "C:\\Users\\dsail\\AppData\\Local\\Temp\\ipykernel_4396\\2861911815.py:18: UserWarning: \n",
      "\n",
      "`distplot` is a deprecated function and will be removed in seaborn v0.14.0.\n",
      "\n",
      "Please adapt your code to use either `displot` (a figure-level function with\n",
      "similar flexibility) or `histplot` (an axes-level function for histograms).\n",
      "\n",
      "For a guide to updating your code to use the new functions, please see\n",
      "https://gist.github.com/mwaskom/de44147ed2974457ad6372750bbe5751\n",
      "\n",
      "  sns.distplot(df['ca'])\n"
     ]
    },
    {
     "data": {
      "image/png": "[encoded data removed]",
      "text/plain": [
       "<Figure size 1600x800 with 6 Axes>"
      ]
     },
     "metadata": {},
     "output_type": "display_data"
    }
   ],
   "source": [
    "plt.figure(figsize=(16,8))\n",
    "plt.subplot(2,3,1)\n",
    "sns.distplot(df['age'])\n",
    "\n",
    "plt.subplot(2,3,2)\n",
    "sns.distplot(df['trestbps'])\n",
    "\n",
    "plt.subplot(2,3,3)\n",
    "sns.distplot(df['chol'])\n",
    "\n",
    "plt.subplot(2,3,4)\n",
    "sns.distplot(df['thalch'])\n",
    "\n",
    "plt.subplot(2,3,5)\n",
    "sns.distplot(df['oldpeak'])\n",
    "\n",
    "plt.subplot(2,3,6)\n",
    "sns.distplot(df['ca'])\n",
    "\n",
    "# Show the plots\n",
    "plt.show()"
   ]
  },
  {
   "cell_type": "code",
   "execution_count": 28,
   "id": "0cf4e2f3",
   "metadata": {},
   "outputs": [
    {
     "data": {
      "text/plain": [
       "215.3244942182772"
      ]
     },
     "execution_count": 28,
     "metadata": {},
     "output_type": "execute_result"
    }
   ],
   "source": [
    "upperthalch = df['thalch'].mean()+3*df['thalch'].std()\n",
    "upperthalch"
   ]
  },
  {
   "cell_type": "code",
   "execution_count": 29,
   "id": "621744fe",
   "metadata": {},
   "outputs": [
    {
     "data": {
      "text/plain": [
       "59.76683526149155"
      ]
     },
     "execution_count": 29,
     "metadata": {},
     "output_type": "execute_result"
    }
   ],
   "source": [
    "lowerthalch = df['thalch'].mean() - 3 * df['thalch'].std()\n",
    "lowerthalch"
   ]
  },
  {
   "cell_type": "code",
   "execution_count": 30,
   "id": "386199ee",
   "metadata": {},
   "outputs": [
    {
     "data": {
      "text/html": [
       "<div>\n",
       "<style scoped>\n",
       "    .dataframe tbody tr th:only-of-type {\n",
       "        vertical-align: middle;\n",
       "    }\n",
       "\n",
       "    .dataframe tbody tr th {\n",
       "        vertical-align: top;\n",
       "    }\n",
       "\n",
       "    .dataframe thead th {\n",
       "        text-align: right;\n",
       "    }\n",
       "</style>\n",
       "<table border=\"1\" class=\"dataframe\">\n",
       "  <thead>\n",
       "    <tr style=\"text-align: right;\">\n",
       "      <th></th>\n",
       "      <th>Unnamed: 0</th>\n",
       "      <th>age</th>\n",
       "      <th>sex</th>\n",
       "      <th>cp</th>\n",
       "      <th>trestbps</th>\n",
       "      <th>chol</th>\n",
       "      <th>fbs</th>\n",
       "      <th>restecg</th>\n",
       "      <th>thalch</th>\n",
       "      <th>exang</th>\n",
       "      <th>oldpeak</th>\n",
       "      <th>slope</th>\n",
       "      <th>ca</th>\n",
       "      <th>num</th>\n",
       "      <th>BMI</th>\n",
       "    </tr>\n",
       "  </thead>\n",
       "  <tbody>\n",
       "  </tbody>\n",
       "</table>\n",
       "</div>"
      ],
      "text/plain": [
       "Empty DataFrame\n",
       "Columns: [Unnamed: 0, age, sex, cp, trestbps, chol, fbs, restecg, thalch, exang, oldpeak, slope, ca, num, BMI]\n",
       "Index: []"
      ]
     },
     "execution_count": 30,
     "metadata": {},
     "output_type": "execute_result"
    }
   ],
   "source": [
    "df[(df['thalch']>215.32) | (df['thalch']<5)]"
   ]
  },
  {
   "cell_type": "code",
   "execution_count": 31,
   "id": "30f7fbcd",
   "metadata": {},
   "outputs": [
    {
     "data": {
      "text/plain": [
       "-0.195993861608106"
      ]
     },
     "execution_count": 31,
     "metadata": {},
     "output_type": "execute_result"
    }
   ],
   "source": [
    "df['age'].skew()"
   ]
  },
  {
   "cell_type": "code",
   "execution_count": 32,
   "id": "44d2e879",
   "metadata": {},
   "outputs": [
    {
     "data": {
      "text/plain": [
       "0.21333446967212508"
      ]
     },
     "execution_count": 32,
     "metadata": {},
     "output_type": "execute_result"
    }
   ],
   "source": [
    "df['trestbps'].skew()"
   ]
  },
  {
   "cell_type": "code",
   "execution_count": 33,
   "id": "92177d24",
   "metadata": {},
   "outputs": [
    {
     "data": {
      "text/plain": [
       "-0.6138360897370758"
      ]
     },
     "execution_count": 33,
     "metadata": {},
     "output_type": "execute_result"
    }
   ],
   "source": [
    "df['chol'].skew()"
   ]
  },
  {
   "cell_type": "code",
   "execution_count": 34,
   "id": "30830f6d",
   "metadata": {},
   "outputs": [
    {
     "data": {
      "text/plain": [
       "-0.21111858073161133"
      ]
     },
     "execution_count": 34,
     "metadata": {},
     "output_type": "execute_result"
    }
   ],
   "source": [
    "df['thalch'].skew()"
   ]
  },
  {
   "cell_type": "code",
   "execution_count": 35,
   "id": "87bfc3bb",
   "metadata": {},
   "outputs": [
    {
     "data": {
      "text/plain": [
       "1.0414266146339854"
      ]
     },
     "execution_count": 35,
     "metadata": {},
     "output_type": "execute_result"
    }
   ],
   "source": [
    "df['oldpeak'].skew()"
   ]
  },
  {
   "cell_type": "code",
   "execution_count": 36,
   "id": "bac13985",
   "metadata": {},
   "outputs": [
    {
     "data": {
      "text/plain": [
       "1.1659778654172832"
      ]
     },
     "execution_count": 36,
     "metadata": {},
     "output_type": "execute_result"
    }
   ],
   "source": [
    "df['ca'].skew()"
   ]
  },
  {
   "cell_type": "code",
   "execution_count": 37,
   "id": "4adec19e",
   "metadata": {},
   "outputs": [],
   "source": [
    "p25t = df['trestbps'].quantile(0.25)\n",
    "p75t = df['trestbps'].quantile(0.75)\n",
    "iqrt = p75t-p25t\n",
    "uppert = p75t+iqrt\n",
    "lowert = p25t-iqrt"
   ]
  },
  {
   "cell_type": "code",
   "execution_count": 38,
   "id": "62cfda2d",
   "metadata": {},
   "outputs": [
    {
     "data": {
      "text/plain": [
       "160.0"
      ]
     },
     "execution_count": 38,
     "metadata": {},
     "output_type": "execute_result"
    }
   ],
   "source": [
    "uppert"
   ]
  },
  {
   "cell_type": "code",
   "execution_count": 39,
   "id": "d1727046",
   "metadata": {},
   "outputs": [
    {
     "data": {
      "text/plain": [
       "100.0"
      ]
     },
     "execution_count": 39,
     "metadata": {},
     "output_type": "execute_result"
    }
   ],
   "source": [
    "lowert"
   ]
  },
  {
   "cell_type": "code",
   "execution_count": 40,
   "id": "eccb906a",
   "metadata": {},
   "outputs": [],
   "source": [
    "df['trestbps'] = np.where(df['trestbps']>uppert,uppert,np.where(\n",
    "df['trestbps']<lowert,lowert,df['trestbps']))"
   ]
  },
  {
   "cell_type": "code",
   "execution_count": 41,
   "id": "1303cae9",
   "metadata": {},
   "outputs": [],
   "source": [
    "p25c = df['chol'].quantile(0.25)\n",
    "p75c = df['chol'].quantile(0.75)\n",
    "iqrc = p75c-p25c\n",
    "upperc = p75c+iqrc\n",
    "lowerc = p25c-iqrc"
   ]
  },
  {
   "cell_type": "code",
   "execution_count": 42,
   "id": "8b8274d4",
   "metadata": {},
   "outputs": [
    {
     "data": {
      "text/plain": [
       "361.0"
      ]
     },
     "execution_count": 42,
     "metadata": {},
     "output_type": "execute_result"
    }
   ],
   "source": [
    "upperc"
   ]
  },
  {
   "cell_type": "code",
   "execution_count": 43,
   "id": "313a486d",
   "metadata": {},
   "outputs": [
    {
     "data": {
      "text/plain": [
       "82.0"
      ]
     },
     "execution_count": 43,
     "metadata": {},
     "output_type": "execute_result"
    }
   ],
   "source": [
    "lowerc"
   ]
  },
  {
   "cell_type": "code",
   "execution_count": 44,
   "id": "1fd421a5",
   "metadata": {},
   "outputs": [],
   "source": [
    "df['chol'] = np.where(df['chol']>upperc,upperc,np.where(\n",
    "df['chol']<lowerc,lowerc,df['chol']))"
   ]
  },
  {
   "cell_type": "code",
   "execution_count": 45,
   "id": "a76086c6",
   "metadata": {},
   "outputs": [],
   "source": [
    "p25o = df['oldpeak'].quantile(0.25)\n",
    "p75o = df['oldpeak'].quantile(0.75)\n",
    "iqro = p75o-p25o\n",
    "uppero = p75o+iqro\n",
    "lowero = p25o-iqro"
   ]
  },
  {
   "cell_type": "code",
   "execution_count": 46,
   "id": "18a015b0",
   "metadata": {},
   "outputs": [
    {
     "data": {
      "text/plain": [
       "3.0"
      ]
     },
     "execution_count": 46,
     "metadata": {},
     "output_type": "execute_result"
    }
   ],
   "source": [
    "uppero"
   ]
  },
  {
   "cell_type": "code",
   "execution_count": 47,
   "id": "ac0fb86a",
   "metadata": {},
   "outputs": [
    {
     "data": {
      "text/plain": [
       "-1.5"
      ]
     },
     "execution_count": 47,
     "metadata": {},
     "output_type": "execute_result"
    }
   ],
   "source": [
    "lowero"
   ]
  },
  {
   "cell_type": "code",
   "execution_count": 48,
   "id": "09f4752e",
   "metadata": {},
   "outputs": [],
   "source": [
    "df['oldpeak'] = np.where(df['oldpeak']>uppero,uppero,np.where(df['oldpeak']<lowero,lowero,df['oldpeak']))"
   ]
  },
  {
   "cell_type": "code",
   "execution_count": 50,
   "id": "6fa0c819",
   "metadata": {},
   "outputs": [
    {
     "data": {
      "image/png": "[encoded data removed]",
      "text/plain": [
       "<Figure size 1600x800 with 6 Axes>"
      ]
     },
     "metadata": {},
     "output_type": "display_data"
    }
   ],
   "source": [
    "plt.figure(figsize=(16,8))\n",
    "plt.subplot(2,3,1)\n",
    "sns.boxplot(df['age'])\n",
    "\n",
    "plt.subplot(2,3,2)\n",
    "sns.boxplot(df['trestbps'])\n",
    "\n",
    "plt.subplot(2,3,3)\n",
    "sns.boxplot(df['chol'])\n",
    "\n",
    "plt.subplot(2,3,4)\n",
    "sns.boxplot(df['thalch'])\n",
    "\n",
    "plt.subplot(2,3,5)\n",
    "sns.boxplot(df['oldpeak'])\n",
    "\n",
    "plt.subplot(2,3,6)\n",
    "sns.boxplot(df['ca'])\n",
    "\n",
    "plt.show()"
   ]
  },
  {
   "cell_type": "code",
   "execution_count": 51,
   "id": "ccd93fd9",
   "metadata": {},
   "outputs": [],
   "source": [
    "df.drop(columns=['Unnamed: 0'],inplace =True)"
   ]
  },
  {
   "cell_type": "code",
   "execution_count": 71,
   "id": "8d951651",
   "metadata": {},
   "outputs": [],
   "source": [
    "from sklearn.model_selection import train_test_split"
   ]
  },
  {
   "cell_type": "code",
   "execution_count": 72,
   "id": "d8ab87d3",
   "metadata": {},
   "outputs": [],
   "source": [
    "X_train,X_test,Y_train,Y_test = train_test_split(df.drop(['num'],axis=1),df['num'])"
   ]
  },
  {
   "cell_type": "code",
   "execution_count": 73,
   "id": "f047468b",
   "metadata": {},
   "outputs": [],
   "source": [
    "from sklearn.compose import ColumnTransformer\n",
    "from sklearn.impute import SimpleImputer\n",
    "from sklearn.preprocessing import OrdinalEncoder,OneHotEncoder"
   ]
  },
  {
   "cell_type": "code",
   "execution_count": 74,
   "id": "1b5c8c9f",
   "metadata": {},
   "outputs": [],
   "source": [
    "trf2= ColumnTransformer(transformers = [\n",
    "    ('impute_bps_Chol_thal_ch_oldPeak_ca',SimpleImputer(),[3,4,7,9,11]),\n",
    "    ('impute_fbs_restecg_exang_slope',SimpleImputer(strategy='most_frequent'),[5,6,8,10]),\n",
    "    ('oc',OrdinalEncoder(categories=[['asymptomatic','non-anginal','atypical angina','typical angina']]),[2]),\n",
    "    ('oh_sex_fbs_exang',OneHotEncoder(sparse=False,handle_unknown='ignore'),[1,5,8]),\n",
    "],remainder='passthrough')"
   ]
  },
  {
   "cell_type": "code",
   "execution_count": 75,
   "id": "c4397b1f",
   "metadata": {},
   "outputs": [],
   "source": [
    "from sklearn.preprocessing import StandardScaler"
   ]
  },
  {
   "cell_type": "code",
   "execution_count": 76,
   "id": "eab55c0d",
   "metadata": {},
   "outputs": [],
   "source": [
    "trf3 = StandardScaler()"
   ]
  },
  {
   "cell_type": "code",
   "execution_count": 77,
   "id": "fd151730",
   "metadata": {},
   "outputs": [],
   "source": [
    "from sklearn.pipeline import make_pipeline"
   ]
  },
  {
   "cell_type": "code",
   "execution_count": 78,
   "id": "8652a244",
   "metadata": {},
   "outputs": [],
   "source": [
    "pipe = make_pipeline(trf2,trf3)"
   ]
  },
  {
   "cell_type": "code",
   "execution_count": 79,
   "id": "dcd805e9",
   "metadata": {},
   "outputs": [],
   "source": [
    "from sklearn.ensemble import GradientBoostingClassifier\n",
    "from sklearn import svm\n",
    "from sklearn.ensemble import RandomForestClassifier\n",
    "from sklearn.linear_model import LogisticRegression\n",
    "from sklearn.neighbors import KNeighborsClassifier\n",
    "from sklearn.model_selection import GridSearchCV\n",
    "from sklearn.naive_bayes import GaussianNB"
   ]
  },
  {
   "cell_type": "code",
   "execution_count": 80,
   "id": "d6977ebb",
   "metadata": {},
   "outputs": [],
   "source": [
    "model_params = {\n",
    "    'svm': {\n",
    "        'model': svm.SVC(gamma='auto'),\n",
    "        'params' : {\n",
    "            'C': [1,10,20],\n",
    "            'kernel': ['rbf','linear']\n",
    "        }  \n",
    "    },\n",
    "    'random_forest': {\n",
    "        'model': RandomForestClassifier(),\n",
    "        'params' : {\n",
    "            'n_estimators': [1,100,1000]\n",
    "        }\n",
    "    },\n",
    "    'logistic_regression' : {\n",
    "        'model': LogisticRegression(solver='liblinear',multi_class='auto'),\n",
    "        'params': {\n",
    "            'C': [1,5,10]\n",
    "        }\n",
    "    },\n",
    "    'knearestneighbors' : {\n",
    "        'model': KNeighborsClassifier(),\n",
    "        'params': {\n",
    "            'n_neighbors': [1,3,5,30]\n",
    "        }\n",
    "    },\n",
    "    'naive_bayes':{\n",
    "        'model':GaussianNB(),\n",
    "        'params':{\n",
    "            \n",
    "        }\n",
    "    }\n",
    "}"
   ]
  },
  {
   "cell_type": "code",
   "execution_count": 81,
   "id": "d36bee09",
   "metadata": {},
   "outputs": [
    {
     "name": "stderr",
     "output_type": "stream",
     "text": [
      "C:\\Users\\dsail\\AppData\\Roaming\\Python\\Python311\\site-packages\\sklearn\\preprocessing\\_encoders.py:868: FutureWarning: `sparse` was renamed to `sparse_output` in version 1.2 and will be removed in 1.4. `sparse_output` is ignored unless you leave `sparse` to its default value.\n",
      "  warnings.warn(\n",
      "C:\\Users\\dsail\\AppData\\Roaming\\Python\\Python311\\site-packages\\sklearn\\preprocessing\\_encoders.py:868: FutureWarning: `sparse` was renamed to `sparse_output` in version 1.2 and will be removed in 1.4. `sparse_output` is ignored unless you leave `sparse` to its default value.\n",
      "  warnings.warn(\n",
      "C:\\Users\\dsail\\AppData\\Roaming\\Python\\Python311\\site-packages\\sklearn\\preprocessing\\_encoders.py:868: FutureWarning: `sparse` was renamed to `sparse_output` in version 1.2 and will be removed in 1.4. `sparse_output` is ignored unless you leave `sparse` to its default value.\n",
      "  warnings.warn(\n",
      "C:\\Users\\dsail\\AppData\\Roaming\\Python\\Python311\\site-packages\\sklearn\\preprocessing\\_encoders.py:868: FutureWarning: `sparse` was renamed to `sparse_output` in version 1.2 and will be removed in 1.4. `sparse_output` is ignored unless you leave `sparse` to its default value.\n",
      "  warnings.warn(\n",
      "C:\\Users\\dsail\\AppData\\Roaming\\Python\\Python311\\site-packages\\sklearn\\preprocessing\\_encoders.py:868: FutureWarning: `sparse` was renamed to `sparse_output` in version 1.2 and will be removed in 1.4. `sparse_output` is ignored unless you leave `sparse` to its default value.\n",
      "  warnings.warn(\n"
     ]
    },
    {
     "data": {
      "text/html": [
       "<div>\n",
       "<style scoped>\n",
       "    .dataframe tbody tr th:only-of-type {\n",
       "        vertical-align: middle;\n",
       "    }\n",
       "\n",
       "    .dataframe tbody tr th {\n",
       "        vertical-align: top;\n",
       "    }\n",
       "\n",
       "    .dataframe thead th {\n",
       "        text-align: right;\n",
       "    }\n",
       "</style>\n",
       "<table border=\"1\" class=\"dataframe\">\n",
       "  <thead>\n",
       "    <tr style=\"text-align: right;\">\n",
       "      <th></th>\n",
       "      <th>model</th>\n",
       "      <th>best_score</th>\n",
       "      <th>best_params</th>\n",
       "    </tr>\n",
       "  </thead>\n",
       "  <tbody>\n",
       "    <tr>\n",
       "      <th>0</th>\n",
       "      <td>svm</td>\n",
       "      <td>0.795652</td>\n",
       "      <td>{'C': 1, 'kernel': 'linear'}</td>\n",
       "    </tr>\n",
       "    <tr>\n",
       "      <th>1</th>\n",
       "      <td>random_forest</td>\n",
       "      <td>0.836232</td>\n",
       "      <td>{'n_estimators': 100}</td>\n",
       "    </tr>\n",
       "    <tr>\n",
       "      <th>2</th>\n",
       "      <td>logistic_regression</td>\n",
       "      <td>0.731884</td>\n",
       "      <td>{'C': 10}</td>\n",
       "    </tr>\n",
       "    <tr>\n",
       "      <th>3</th>\n",
       "      <td>knearestneighbors</td>\n",
       "      <td>0.615942</td>\n",
       "      <td>{'n_neighbors': 5}</td>\n",
       "    </tr>\n",
       "    <tr>\n",
       "      <th>4</th>\n",
       "      <td>naive_bayes</td>\n",
       "      <td>0.530435</td>\n",
       "      <td>{}</td>\n",
       "    </tr>\n",
       "  </tbody>\n",
       "</table>\n",
       "</div>"
      ],
      "text/plain": [
       "                 model  best_score                   best_params\n",
       "0                  svm    0.795652  {'C': 1, 'kernel': 'linear'}\n",
       "1        random_forest    0.836232         {'n_estimators': 100}\n",
       "2  logistic_regression    0.731884                     {'C': 10}\n",
       "3    knearestneighbors    0.615942            {'n_neighbors': 5}\n",
       "4          naive_bayes    0.530435                            {}"
      ]
     },
     "execution_count": 81,
     "metadata": {},
     "output_type": "execute_result"
    }
   ],
   "source": [
    "scores = []\n",
    "\n",
    "for model_name, mp in model_params.items():\n",
    "    clf =  GridSearchCV(mp['model'], mp['params'], cv=2, return_train_score=False)\n",
    "    X = pipe.fit_transform(X_train)\n",
    "    clf.fit(X,Y_train)\n",
    "    scores.append({\n",
    "        'model': model_name,\n",
    "        'best_score': clf.best_score_,\n",
    "        'best_params': clf.best_params_\n",
    "    })\n",
    "    \n",
    "scores = pd.DataFrame(scores,columns=['model','best_score','best_params'])\n",
    "scores"
   ]
  },
  {
   "cell_type": "code",
   "execution_count": 82,
   "id": "de54fc04",
   "metadata": {},
   "outputs": [],
   "source": [
    "X = df.drop('num',axis=1)\n",
    "y = df['num']\n",
    "y = np.where((y == 1) | (y == 2) | (y == 3) | (y == 4), 1,0)"
   ]
  },
  {
   "cell_type": "code",
   "execution_count": 83,
   "id": "cea328e5",
   "metadata": {},
   "outputs": [],
   "source": [
    "X_train,X_test,Y_train,Y_test = train_test_split(X,y)"
   ]
  },
  {
   "cell_type": "code",
   "execution_count": 84,
   "id": "22fc4a8c",
   "metadata": {},
   "outputs": [],
   "source": [
    "from sklearn import svm\n",
    "from sklearn.ensemble import RandomForestClassifier\n",
    "from sklearn.linear_model import LogisticRegression\n",
    "from sklearn.neighbors import KNeighborsClassifier\n",
    "\n",
    "model_params = {\n",
    "    'svm': {\n",
    "        'model': svm.SVC(),\n",
    "        'params' : {\n",
    "    \n",
    "        }  \n",
    "    },\n",
    "    'random_forest': {\n",
    "        'model': RandomForestClassifier(),\n",
    "        'params' : {\n",
    "            'n_estimators': [1,2,3]\n",
    "        }\n",
    "    },\n",
    "    'logistic_regression' : {\n",
    "        'model': LogisticRegression(penalty='l2'),\n",
    "        'params': {\n",
    "            \n",
    "        }\n",
    "    },\n",
    "    'knearestneighbors' : {\n",
    "        'model': KNeighborsClassifier(),\n",
    "        'params': {\n",
    "            'n_neighbors': [1,3,5,30]\n",
    "        }\n",
    "    },\n",
    "    'naive_bayes':{\n",
    "        'model':GaussianNB(),\n",
    "        'params':{\n",
    "            \n",
    "        }\n",
    "    }\n",
    "}"
   ]
  },
  {
   "cell_type": "code",
   "execution_count": 85,
   "id": "ea7431e7",
   "metadata": {},
   "outputs": [
    {
     "name": "stderr",
     "output_type": "stream",
     "text": [
      "C:\\Users\\dsail\\AppData\\Roaming\\Python\\Python311\\site-packages\\sklearn\\preprocessing\\_encoders.py:868: FutureWarning: `sparse` was renamed to `sparse_output` in version 1.2 and will be removed in 1.4. `sparse_output` is ignored unless you leave `sparse` to its default value.\n",
      "  warnings.warn(\n",
      "C:\\Users\\dsail\\AppData\\Roaming\\Python\\Python311\\site-packages\\sklearn\\preprocessing\\_encoders.py:868: FutureWarning: `sparse` was renamed to `sparse_output` in version 1.2 and will be removed in 1.4. `sparse_output` is ignored unless you leave `sparse` to its default value.\n",
      "  warnings.warn(\n",
      "C:\\Users\\dsail\\AppData\\Roaming\\Python\\Python311\\site-packages\\sklearn\\preprocessing\\_encoders.py:868: FutureWarning: `sparse` was renamed to `sparse_output` in version 1.2 and will be removed in 1.4. `sparse_output` is ignored unless you leave `sparse` to its default value.\n",
      "  warnings.warn(\n",
      "C:\\Users\\dsail\\AppData\\Roaming\\Python\\Python311\\site-packages\\sklearn\\preprocessing\\_encoders.py:868: FutureWarning: `sparse` was renamed to `sparse_output` in version 1.2 and will be removed in 1.4. `sparse_output` is ignored unless you leave `sparse` to its default value.\n",
      "  warnings.warn(\n",
      "C:\\Users\\dsail\\AppData\\Roaming\\Python\\Python311\\site-packages\\sklearn\\preprocessing\\_encoders.py:868: FutureWarning: `sparse` was renamed to `sparse_output` in version 1.2 and will be removed in 1.4. `sparse_output` is ignored unless you leave `sparse` to its default value.\n",
      "  warnings.warn(\n"
     ]
    },
    {
     "data": {
      "text/html": [
       "<div>\n",
       "<style scoped>\n",
       "    .dataframe tbody tr th:only-of-type {\n",
       "        vertical-align: middle;\n",
       "    }\n",
       "\n",
       "    .dataframe tbody tr th {\n",
       "        vertical-align: top;\n",
       "    }\n",
       "\n",
       "    .dataframe thead th {\n",
       "        text-align: right;\n",
       "    }\n",
       "</style>\n",
       "<table border=\"1\" class=\"dataframe\">\n",
       "  <thead>\n",
       "    <tr style=\"text-align: right;\">\n",
       "      <th></th>\n",
       "      <th>model</th>\n",
       "      <th>best_score</th>\n",
       "      <th>best_params</th>\n",
       "    </tr>\n",
       "  </thead>\n",
       "  <tbody>\n",
       "    <tr>\n",
       "      <th>0</th>\n",
       "      <td>svm</td>\n",
       "      <td>0.853623</td>\n",
       "      <td>{}</td>\n",
       "    </tr>\n",
       "    <tr>\n",
       "      <th>1</th>\n",
       "      <td>random_forest</td>\n",
       "      <td>0.863768</td>\n",
       "      <td>{'n_estimators': 3}</td>\n",
       "    </tr>\n",
       "    <tr>\n",
       "      <th>2</th>\n",
       "      <td>logistic_regression</td>\n",
       "      <td>0.886957</td>\n",
       "      <td>{}</td>\n",
       "    </tr>\n",
       "    <tr>\n",
       "      <th>3</th>\n",
       "      <td>knearestneighbors</td>\n",
       "      <td>0.839130</td>\n",
       "      <td>{'n_neighbors': 5}</td>\n",
       "    </tr>\n",
       "    <tr>\n",
       "      <th>4</th>\n",
       "      <td>naive_bayes</td>\n",
       "      <td>0.863768</td>\n",
       "      <td>{}</td>\n",
       "    </tr>\n",
       "  </tbody>\n",
       "</table>\n",
       "</div>"
      ],
      "text/plain": [
       "                 model  best_score          best_params\n",
       "0                  svm    0.853623                   {}\n",
       "1        random_forest    0.863768  {'n_estimators': 3}\n",
       "2  logistic_regression    0.886957                   {}\n",
       "3    knearestneighbors    0.839130   {'n_neighbors': 5}\n",
       "4          naive_bayes    0.863768                   {}"
      ]
     },
     "execution_count": 85,
     "metadata": {},
     "output_type": "execute_result"
    }
   ],
   "source": [
    "scores = []\n",
    "\n",
    "for model_name, mp in model_params.items():\n",
    "    clf =  GridSearchCV(mp['model'], mp['params'], cv=2, return_train_score=False)\n",
    "    X = pipe.fit_transform(X_train)\n",
    "    clf.fit(X,Y_train)\n",
    "    scores.append({\n",
    "        'model': model_name,\n",
    "        'best_score': clf.best_score_,\n",
    "        'best_params': clf.best_params_\n",
    "    })\n",
    "    \n",
    "scores = pd.DataFrame(scores,columns=['model','best_score','best_params'])\n",
    "scores"
   ]
  },
  {
   "cell_type": "code",
   "execution_count": 86,
   "id": "ad2ebc40",
   "metadata": {},
   "outputs": [],
   "source": [
    "import joblib"
   ]
  },
  {
   "cell_type": "code",
   "execution_count": 87,
   "id": "e21dd97c",
   "metadata": {},
   "outputs": [],
   "source": [
    "trf5 = LogisticRegression()"
   ]
  },
  {
   "cell_type": "code",
   "execution_count": 88,
   "id": "14b12d73",
   "metadata": {},
   "outputs": [],
   "source": [
    "last_pipe = make_pipeline(trf2,trf3,trf5)"
   ]
  },
  {
   "cell_type": "code",
   "execution_count": null,
   "id": "0f184ce3",
   "metadata": {},
   "outputs": [],
   "source": []
  }
 ],
 "metadata": {
  "kernelspec": {
   "display_name": "Python 3 (ipykernel)",
   "language": "python",
   "name": "python3"
  },
  "language_info": {
   "codemirror_mode": {
    "name": "ipython",
    "version": 3
   },
   "file_extension": ".py",
   "mimetype": "text/x-python",
   "name": "python",
   "nbconvert_exporter": "python",
   "pygments_lexer": "ipython3",
   "version": "3.11.5"
  }
 },
 "nbformat": 4,
 "nbformat_minor": 5
}
