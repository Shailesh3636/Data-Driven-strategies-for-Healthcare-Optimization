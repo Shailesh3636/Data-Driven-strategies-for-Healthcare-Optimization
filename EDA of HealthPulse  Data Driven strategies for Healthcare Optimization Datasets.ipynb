{
 "cells": [
  {
   "cell_type": "code",
   "execution_count": 3,
   "id": "569e41cb",
   "metadata": {},
   "outputs": [],
   "source": [
    "from ydata_profiling import ProfileReport"
   ]
  },
  {
   "cell_type": "code",
   "execution_count": 4,
   "id": "0ccb76c6",
   "metadata": {},
   "outputs": [],
   "source": [
    "import pandas as pd"
   ]
  },
  {
   "cell_type": "code",
   "execution_count": 5,
   "id": "ee5359d9",
   "metadata": {},
   "outputs": [],
   "source": [
    "df = pd.read_csv(r\"D:\\Projects\\HealthPulse  Data Driven strategies for Healthcare Optimization\\chronic kidney disease\\kidney_disease.csv\")"
   ]
  },
  {
   "cell_type": "code",
   "execution_count": 6,
   "id": "c491fd7e",
   "metadata": {},
   "outputs": [],
   "source": [
    "pf = ProfileReport(df)"
   ]
  },
  {
   "cell_type": "code",
   "execution_count": 7,
   "id": "690fec24",
   "metadata": {},
   "outputs": [
    {
     "data": {
      "application/vnd.jupyter.widget-view+json": {
       "model_id": "085cb5cb41b04b93a850905c035d1057",
       "version_major": 2,
       "version_minor": 0
      },
      "text/plain": [
       "Summarize dataset:   0%|          | 0/5 [00:00<?, ?it/s]"
      ]
     },
     "metadata": {},
     "output_type": "display_data"
    },
    {
     "data": {
      "application/vnd.jupyter.widget-view+json": {
       "model_id": "fd9b8f7aa9714fe5b4ec9053f9ce86bb",
       "version_major": 2,
       "version_minor": 0
      },
      "text/plain": [
       "Generate report structure:   0%|          | 0/1 [00:00<?, ?it/s]"
      ]
     },
     "metadata": {},
     "output_type": "display_data"
    },
    {
     "name": "stderr",
     "output_type": "stream",
     "text": [
      "C:\\Users\\dsail\\AppData\\Roaming\\Python\\Python311\\site-packages\\ydata_profiling\\visualisation\\utils.py:73: UserWarning: Glyph 9 (\t) missing from current font.\n",
      "  plt.savefig(\n",
      "C:\\Users\\dsail\\AppData\\Roaming\\Python\\Python311\\site-packages\\ydata_profiling\\visualisation\\utils.py:73: UserWarning: Glyph 9 (\t) missing from current font.\n",
      "  plt.savefig(\n",
      "C:\\Users\\dsail\\AppData\\Roaming\\Python\\Python311\\site-packages\\ydata_profiling\\visualisation\\utils.py:73: UserWarning: Glyph 9 (\t) missing from current font.\n",
      "  plt.savefig(\n"
     ]
    },
    {
     "data": {
      "application/vnd.jupyter.widget-view+json": {
       "model_id": "2ed64710c0304fc696ec9194536d0141",
       "version_major": 2,
       "version_minor": 0
      },
      "text/plain": [
       "Render HTML:   0%|          | 0/1 [00:00<?, ?it/s]"
      ]
     },
     "metadata": {},
     "output_type": "display_data"
    },
    {
     "data": {
      "application/vnd.jupyter.widget-view+json": {
       "model_id": "5c5297c21f2240c0afa0c03c3074be0d",
       "version_major": 2,
       "version_minor": 0
      },
      "text/plain": [
       "Export report to file:   0%|          | 0/1 [00:00<?, ?it/s]"
      ]
     },
     "metadata": {},
     "output_type": "display_data"
    }
   ],
   "source": [
    "pf.to_file(output_file=\"kidney.html\")"
   ]
  },
  {
   "cell_type": "code",
   "execution_count": 10,
   "id": "359fbd06",
   "metadata": {},
   "outputs": [],
   "source": [
    "df1 = pd.read_csv(r\"D:\\Projects\\HealthPulse  Data Driven strategies for Healthcare Optimization\\Heart\\heart_disease_uci (1).csv\")"
   ]
  },
  {
   "cell_type": "code",
   "execution_count": 11,
   "id": "3b178253",
   "metadata": {},
   "outputs": [],
   "source": [
    "pf1 = ProfileReport(df1)"
   ]
  },
  {
   "cell_type": "code",
   "execution_count": 15,
   "id": "f097d2fd",
   "metadata": {},
   "outputs": [
    {
     "data": {
      "application/vnd.jupyter.widget-view+json": {
       "model_id": "6744db3806964538a1f4004b3b902053",
       "version_major": 2,
       "version_minor": 0
      },
      "text/plain": [
       "Summarize dataset:   0%|          | 0/5 [00:00<?, ?it/s]"
      ]
     },
     "metadata": {},
     "output_type": "display_data"
    },
    {
     "data": {
      "application/vnd.jupyter.widget-view+json": {
       "model_id": "59a03de0f35e4f69977162c801b385bf",
       "version_major": 2,
       "version_minor": 0
      },
      "text/plain": [
       "Generate report structure:   0%|          | 0/1 [00:00<?, ?it/s]"
      ]
     },
     "metadata": {},
     "output_type": "display_data"
    },
    {
     "data": {
      "application/vnd.jupyter.widget-view+json": {
       "model_id": "83c60cffff2e43629dbd08896c6becbb",
       "version_major": 2,
       "version_minor": 0
      },
      "text/plain": [
       "Render HTML:   0%|          | 0/1 [00:00<?, ?it/s]"
      ]
     },
     "metadata": {},
     "output_type": "display_data"
    },
    {
     "data": {
      "application/vnd.jupyter.widget-view+json": {
       "model_id": "86e1f00c42254ccfbae8173ced9f5847",
       "version_major": 2,
       "version_minor": 0
      },
      "text/plain": [
       "Export report to file:   0%|          | 0/1 [00:00<?, ?it/s]"
      ]
     },
     "metadata": {},
     "output_type": "display_data"
    }
   ],
   "source": [
    "pf1.to_file(output_file=\"heart.html\")"
   ]
  },
  {
   "cell_type": "code",
   "execution_count": 13,
   "id": "b19c0f9b",
   "metadata": {},
   "outputs": [],
   "source": [
    "df2 = pd.read_csv(r\"D:\\Projects\\HealthPulse  Data Driven strategies for Healthcare Optimization\\Liver\\liver.csv\")"
   ]
  },
  {
   "cell_type": "code",
   "execution_count": 14,
   "id": "3e726522",
   "metadata": {},
   "outputs": [],
   "source": [
    "pf2 = ProfileReport(df2)"
   ]
  },
  {
   "cell_type": "code",
   "execution_count": 16,
   "id": "96bbe791",
   "metadata": {},
   "outputs": [
    {
     "data": {
      "application/vnd.jupyter.widget-view+json": {
       "model_id": "39c2326c49b04ad99c4e6e89077cdfc8",
       "version_major": 2,
       "version_minor": 0
      },
      "text/plain": [
       "Summarize dataset:   0%|          | 0/5 [00:00<?, ?it/s]"
      ]
     },
     "metadata": {},
     "output_type": "display_data"
    },
    {
     "data": {
      "application/vnd.jupyter.widget-view+json": {
       "model_id": "6a530bb31ea24010b78412803c2e4a26",
       "version_major": 2,
       "version_minor": 0
      },
      "text/plain": [
       "Generate report structure:   0%|          | 0/1 [00:00<?, ?it/s]"
      ]
     },
     "metadata": {},
     "output_type": "display_data"
    },
    {
     "data": {
      "application/vnd.jupyter.widget-view+json": {
       "model_id": "b0a80d85f60d412e97e6bc05921fe26c",
       "version_major": 2,
       "version_minor": 0
      },
      "text/plain": [
       "Render HTML:   0%|          | 0/1 [00:00<?, ?it/s]"
      ]
     },
     "metadata": {},
     "output_type": "display_data"
    },
    {
     "data": {
      "application/vnd.jupyter.widget-view+json": {
       "model_id": "626292e852ee41e5b325a5fb1ae72738",
       "version_major": 2,
       "version_minor": 0
      },
      "text/plain": [
       "Export report to file:   0%|          | 0/1 [00:00<?, ?it/s]"
      ]
     },
     "metadata": {},
     "output_type": "display_data"
    }
   ],
   "source": [
    "pf2.to_file(output_file=\"liver.html\")"
   ]
  },
  {
   "cell_type": "code",
   "execution_count": 17,
   "id": "710f989e",
   "metadata": {},
   "outputs": [],
   "source": [
    "df3 = pd.read_csv(r\"D:\\Projects\\HealthPulse  Data Driven strategies for Healthcare Optimization\\lungs\\survey lung cancer.csv\")"
   ]
  },
  {
   "cell_type": "code",
   "execution_count": 18,
   "id": "96eba16a",
   "metadata": {},
   "outputs": [],
   "source": [
    "pf3 = ProfileReport(df3)"
   ]
  },
  {
   "cell_type": "code",
   "execution_count": 19,
   "id": "21e3e4cb",
   "metadata": {},
   "outputs": [
    {
     "data": {
      "application/vnd.jupyter.widget-view+json": {
       "model_id": "53e0196d439145af969028db14beb4cc",
       "version_major": 2,
       "version_minor": 0
      },
      "text/plain": [
       "Summarize dataset:   0%|          | 0/5 [00:00<?, ?it/s]"
      ]
     },
     "metadata": {},
     "output_type": "display_data"
    },
    {
     "data": {
      "application/vnd.jupyter.widget-view+json": {
       "model_id": "95e6f9dbce13477fb228f605dd6a115a",
       "version_major": 2,
       "version_minor": 0
      },
      "text/plain": [
       "Generate report structure:   0%|          | 0/1 [00:00<?, ?it/s]"
      ]
     },
     "metadata": {},
     "output_type": "display_data"
    },
    {
     "data": {
      "application/vnd.jupyter.widget-view+json": {
       "model_id": "5701fd04a67241889c423fb10ada095e",
       "version_major": 2,
       "version_minor": 0
      },
      "text/plain": [
       "Render HTML:   0%|          | 0/1 [00:00<?, ?it/s]"
      ]
     },
     "metadata": {},
     "output_type": "display_data"
    },
    {
     "data": {
      "application/vnd.jupyter.widget-view+json": {
       "model_id": "1e47b23a00074b4bb6492969e10d71d2",
       "version_major": 2,
       "version_minor": 0
      },
      "text/plain": [
       "Export report to file:   0%|          | 0/1 [00:00<?, ?it/s]"
      ]
     },
     "metadata": {},
     "output_type": "display_data"
    }
   ],
   "source": [
    "pf3.to_file(output_file=\"lung.html\")"
   ]
  },
  {
   "cell_type": "code",
   "execution_count": 20,
   "id": "10ceafeb",
   "metadata": {},
   "outputs": [],
   "source": [
    "df4 = pd.read_csv(r\"D:\\Projects\\HealthPulse  Data Driven strategies for Healthcare Optimization\\AI recommendation medicine dataset\\description.csv\")"
   ]
  },
  {
   "cell_type": "code",
   "execution_count": 21,
   "id": "fdf07d6e",
   "metadata": {},
   "outputs": [],
   "source": [
    "pf4 = ProfileReport(df4)"
   ]
  },
  {
   "cell_type": "code",
   "execution_count": 22,
   "id": "64ee9b2d",
   "metadata": {},
   "outputs": [
    {
     "data": {
      "application/vnd.jupyter.widget-view+json": {
       "model_id": "26145853825e42278e7829e407c49073",
       "version_major": 2,
       "version_minor": 0
      },
      "text/plain": [
       "Summarize dataset:   0%|          | 0/5 [00:00<?, ?it/s]"
      ]
     },
     "metadata": {},
     "output_type": "display_data"
    },
    {
     "data": {
      "application/vnd.jupyter.widget-view+json": {
       "model_id": "861a507882484662a4b0d33371edae27",
       "version_major": 2,
       "version_minor": 0
      },
      "text/plain": [
       "Generate report structure:   0%|          | 0/1 [00:00<?, ?it/s]"
      ]
     },
     "metadata": {},
     "output_type": "display_data"
    },
    {
     "data": {
      "application/vnd.jupyter.widget-view+json": {
       "model_id": "5efcd8d3f474402387aeec1bccc116ab",
       "version_major": 2,
       "version_minor": 0
      },
      "text/plain": [
       "Render HTML:   0%|          | 0/1 [00:00<?, ?it/s]"
      ]
     },
     "metadata": {},
     "output_type": "display_data"
    },
    {
     "data": {
      "application/vnd.jupyter.widget-view+json": {
       "model_id": "36f7297faa1b4147b8f2dcd42b263a5f",
       "version_major": 2,
       "version_minor": 0
      },
      "text/plain": [
       "Export report to file:   0%|          | 0/1 [00:00<?, ?it/s]"
      ]
     },
     "metadata": {},
     "output_type": "display_data"
    }
   ],
   "source": [
    "pf4.to_file(output_file=\"description.html\")"
   ]
  },
  {
   "cell_type": "code",
   "execution_count": 23,
   "id": "6a06b354",
   "metadata": {},
   "outputs": [],
   "source": [
    "df5 = pd.read_csv(r\"D:\\Projects\\HealthPulse  Data Driven strategies for Healthcare Optimization\\AI recommendation medicine dataset\\diets.csv\")"
   ]
  },
  {
   "cell_type": "code",
   "execution_count": 24,
   "id": "ee7aa5d0",
   "metadata": {},
   "outputs": [],
   "source": [
    "pf5 = ProfileReport(df5)"
   ]
  },
  {
   "cell_type": "code",
   "execution_count": 25,
   "id": "220be858",
   "metadata": {},
   "outputs": [
    {
     "data": {
      "application/vnd.jupyter.widget-view+json": {
       "model_id": "7c0a9b75c30f419588044cd42d3fc735",
       "version_major": 2,
       "version_minor": 0
      },
      "text/plain": [
       "Summarize dataset:   0%|          | 0/5 [00:00<?, ?it/s]"
      ]
     },
     "metadata": {},
     "output_type": "display_data"
    },
    {
     "data": {
      "application/vnd.jupyter.widget-view+json": {
       "model_id": "dee13639ceee4d609f4a0c58e9335533",
       "version_major": 2,
       "version_minor": 0
      },
      "text/plain": [
       "Generate report structure:   0%|          | 0/1 [00:00<?, ?it/s]"
      ]
     },
     "metadata": {},
     "output_type": "display_data"
    },
    {
     "data": {
      "application/vnd.jupyter.widget-view+json": {
       "model_id": "62c8d30218ab428eacdd472d028c5aa1",
       "version_major": 2,
       "version_minor": 0
      },
      "text/plain": [
       "Render HTML:   0%|          | 0/1 [00:00<?, ?it/s]"
      ]
     },
     "metadata": {},
     "output_type": "display_data"
    },
    {
     "data": {
      "application/vnd.jupyter.widget-view+json": {
       "model_id": "5b4ecddae3274c76bc49b2b80a20cc88",
       "version_major": 2,
       "version_minor": 0
      },
      "text/plain": [
       "Export report to file:   0%|          | 0/1 [00:00<?, ?it/s]"
      ]
     },
     "metadata": {},
     "output_type": "display_data"
    }
   ],
   "source": [
    "pf5.to_file(output_file=\"diets.html\")"
   ]
  },
  {
   "cell_type": "code",
   "execution_count": 26,
   "id": "65418573",
   "metadata": {},
   "outputs": [],
   "source": [
    "df6 = pd.read_csv(r\"D:\\Projects\\HealthPulse  Data Driven strategies for Healthcare Optimization\\AI recommendation medicine dataset\\medications.csv\")"
   ]
  },
  {
   "cell_type": "code",
   "execution_count": 27,
   "id": "2518ac3a",
   "metadata": {},
   "outputs": [],
   "source": [
    "pf6 = ProfileReport(df6)"
   ]
  },
  {
   "cell_type": "code",
   "execution_count": 28,
   "id": "5c0e9b2b",
   "metadata": {},
   "outputs": [
    {
     "data": {
      "application/vnd.jupyter.widget-view+json": {
       "model_id": "c5eb7f080133487ca6b82b451426c7fc",
       "version_major": 2,
       "version_minor": 0
      },
      "text/plain": [
       "Summarize dataset:   0%|          | 0/5 [00:00<?, ?it/s]"
      ]
     },
     "metadata": {},
     "output_type": "display_data"
    },
    {
     "data": {
      "application/vnd.jupyter.widget-view+json": {
       "model_id": "ef42f03e93dd4f8bb897af9e6985ebcf",
       "version_major": 2,
       "version_minor": 0
      },
      "text/plain": [
       "Generate report structure:   0%|          | 0/1 [00:00<?, ?it/s]"
      ]
     },
     "metadata": {},
     "output_type": "display_data"
    },
    {
     "data": {
      "application/vnd.jupyter.widget-view+json": {
       "model_id": "044b31013ab9444d87f0009b2fce5d2f",
       "version_major": 2,
       "version_minor": 0
      },
      "text/plain": [
       "Render HTML:   0%|          | 0/1 [00:00<?, ?it/s]"
      ]
     },
     "metadata": {},
     "output_type": "display_data"
    },
    {
     "data": {
      "application/vnd.jupyter.widget-view+json": {
       "model_id": "ea73ba3f96754c0586249dd8678d4e9f",
       "version_major": 2,
       "version_minor": 0
      },
      "text/plain": [
       "Export report to file:   0%|          | 0/1 [00:00<?, ?it/s]"
      ]
     },
     "metadata": {},
     "output_type": "display_data"
    }
   ],
   "source": [
    "pf6.to_file(output_file=\"medications.html\")"
   ]
  },
  {
   "cell_type": "code",
   "execution_count": 29,
   "id": "72c6b656",
   "metadata": {},
   "outputs": [],
   "source": [
    "df7 = pd.read_csv(r\"D:\\Projects\\HealthPulse  Data Driven strategies for Healthcare Optimization\\AI recommendation medicine dataset\\precautions_df.csv\")"
   ]
  },
  {
   "cell_type": "code",
   "execution_count": 30,
   "id": "762d946a",
   "metadata": {},
   "outputs": [],
   "source": [
    "pf7 = ProfileReport(df7)"
   ]
  },
  {
   "cell_type": "code",
   "execution_count": 32,
   "id": "f97e0a6a",
   "metadata": {},
   "outputs": [
    {
     "data": {
      "application/vnd.jupyter.widget-view+json": {
       "model_id": "d7130f949e9f44c8bee9ca85320a643c",
       "version_major": 2,
       "version_minor": 0
      },
      "text/plain": [
       "Summarize dataset:   0%|          | 0/5 [00:00<?, ?it/s]"
      ]
     },
     "metadata": {},
     "output_type": "display_data"
    },
    {
     "data": {
      "application/vnd.jupyter.widget-view+json": {
       "model_id": "759cda8fa3584f798c47c40ed001460e",
       "version_major": 2,
       "version_minor": 0
      },
      "text/plain": [
       "Generate report structure:   0%|          | 0/1 [00:00<?, ?it/s]"
      ]
     },
     "metadata": {},
     "output_type": "display_data"
    },
    {
     "data": {
      "application/vnd.jupyter.widget-view+json": {
       "model_id": "600e001038ff402fa0f0d5010b607c0a",
       "version_major": 2,
       "version_minor": 0
      },
      "text/plain": [
       "Render HTML:   0%|          | 0/1 [00:00<?, ?it/s]"
      ]
     },
     "metadata": {},
     "output_type": "display_data"
    },
    {
     "data": {
      "application/vnd.jupyter.widget-view+json": {
       "model_id": "d1e5962290164e7492373d9efed56e1c",
       "version_major": 2,
       "version_minor": 0
      },
      "text/plain": [
       "Export report to file:   0%|          | 0/1 [00:00<?, ?it/s]"
      ]
     },
     "metadata": {},
     "output_type": "display_data"
    }
   ],
   "source": [
    "pf7.to_file(output_file=\"precautions_df.html\")"
   ]
  },
  {
   "cell_type": "code",
   "execution_count": 33,
   "id": "9e8a5160",
   "metadata": {},
   "outputs": [],
   "source": [
    "df8 = pd.read_csv(r\"D:\\Projects\\HealthPulse  Data Driven strategies for Healthcare Optimization\\AI recommendation medicine dataset\\symtoms_df.csv\")"
   ]
  },
  {
   "cell_type": "code",
   "execution_count": 34,
   "id": "dfbf0656",
   "metadata": {},
   "outputs": [],
   "source": [
    "pf8 = ProfileReport(df8)"
   ]
  },
  {
   "cell_type": "code",
   "execution_count": 35,
   "id": "f7abc30d",
   "metadata": {},
   "outputs": [
    {
     "data": {
      "application/vnd.jupyter.widget-view+json": {
       "model_id": "19fbb2b66a0a4802936209c4cf368e9c",
       "version_major": 2,
       "version_minor": 0
      },
      "text/plain": [
       "Summarize dataset:   0%|          | 0/5 [00:00<?, ?it/s]"
      ]
     },
     "metadata": {},
     "output_type": "display_data"
    },
    {
     "data": {
      "application/vnd.jupyter.widget-view+json": {
       "model_id": "75de1e9ad5cf4a959de385565d81590d",
       "version_major": 2,
       "version_minor": 0
      },
      "text/plain": [
       "Generate report structure:   0%|          | 0/1 [00:00<?, ?it/s]"
      ]
     },
     "metadata": {},
     "output_type": "display_data"
    },
    {
     "data": {
      "application/vnd.jupyter.widget-view+json": {
       "model_id": "d87699b1d8b4445d875be66a0c998b38",
       "version_major": 2,
       "version_minor": 0
      },
      "text/plain": [
       "Render HTML:   0%|          | 0/1 [00:00<?, ?it/s]"
      ]
     },
     "metadata": {},
     "output_type": "display_data"
    },
    {
     "data": {
      "application/vnd.jupyter.widget-view+json": {
       "model_id": "413edd033d284dd49a2a6d4ed8749e5f",
       "version_major": 2,
       "version_minor": 0
      },
      "text/plain": [
       "Export report to file:   0%|          | 0/1 [00:00<?, ?it/s]"
      ]
     },
     "metadata": {},
     "output_type": "display_data"
    }
   ],
   "source": [
    "pf8.to_file(output_file=\"symtoms_df.html\")"
   ]
  },
  {
   "cell_type": "code",
   "execution_count": 36,
   "id": "00770d4b",
   "metadata": {},
   "outputs": [],
   "source": [
    "df9 = pd.read_csv(r\"D:\\Projects\\HealthPulse  Data Driven strategies for Healthcare Optimization\\AI recommendation medicine dataset\\Training.csv\")"
   ]
  },
  {
   "cell_type": "code",
   "execution_count": 37,
   "id": "6c429611",
   "metadata": {},
   "outputs": [],
   "source": [
    "pf9 = ProfileReport(df9)"
   ]
  },
  {
   "cell_type": "code",
   "execution_count": 43,
   "id": "36655e15",
   "metadata": {},
   "outputs": [
    {
     "data": {
      "application/vnd.jupyter.widget-view+json": {
       "model_id": "6327fcaa72a541698932bbe79aa45476",
       "version_major": 2,
       "version_minor": 0
      },
      "text/plain": [
       "Export report to file:   0%|          | 0/1 [00:00<?, ?it/s]"
      ]
     },
     "metadata": {},
     "output_type": "display_data"
    }
   ],
   "source": [
    "pf9.to_file(output_file=\"Training.html\")"
   ]
  },
  {
   "cell_type": "code",
   "execution_count": 44,
   "id": "76f9e387",
   "metadata": {},
   "outputs": [],
   "source": [
    "df10 = pd.read_csv(r\"D:\\Projects\\HealthPulse  Data Driven strategies for Healthcare Optimization\\AI recommendation medicine dataset\\workout_df.csv\")"
   ]
  },
  {
   "cell_type": "code",
   "execution_count": 45,
   "id": "17f4c59e",
   "metadata": {},
   "outputs": [],
   "source": [
    "pf10 = ProfileReport(df10)"
   ]
  },
  {
   "cell_type": "code",
   "execution_count": 46,
   "id": "2b8ded40",
   "metadata": {},
   "outputs": [
    {
     "data": {
      "application/vnd.jupyter.widget-view+json": {
       "model_id": "ad04ba83878b408598af366454713476",
       "version_major": 2,
       "version_minor": 0
      },
      "text/plain": [
       "Summarize dataset:   0%|          | 0/5 [00:00<?, ?it/s]"
      ]
     },
     "metadata": {},
     "output_type": "display_data"
    },
    {
     "data": {
      "application/vnd.jupyter.widget-view+json": {
       "model_id": "944043c6b06d40c18817be20a026be02",
       "version_major": 2,
       "version_minor": 0
      },
      "text/plain": [
       "Generate report structure:   0%|          | 0/1 [00:00<?, ?it/s]"
      ]
     },
     "metadata": {},
     "output_type": "display_data"
    },
    {
     "data": {
      "application/vnd.jupyter.widget-view+json": {
       "model_id": "f0fc40951fe14eeb8f1ebb62f50459b5",
       "version_major": 2,
       "version_minor": 0
      },
      "text/plain": [
       "Render HTML:   0%|          | 0/1 [00:00<?, ?it/s]"
      ]
     },
     "metadata": {},
     "output_type": "display_data"
    },
    {
     "data": {
      "application/vnd.jupyter.widget-view+json": {
       "model_id": "dae92373ae71462abef4542e8f4ee17d",
       "version_major": 2,
       "version_minor": 0
      },
      "text/plain": [
       "Export report to file:   0%|          | 0/1 [00:00<?, ?it/s]"
      ]
     },
     "metadata": {},
     "output_type": "display_data"
    }
   ],
   "source": [
    "pf10.to_file(output_file=\"workout_df.html\")"
   ]
  },
  {
   "cell_type": "code",
   "execution_count": null,
   "id": "de6bba96",
   "metadata": {},
   "outputs": [],
   "source": []
  }
 ],
 "metadata": {
  "kernelspec": {
   "display_name": "Python 3 (ipykernel)",
   "language": "python",
   "name": "python3"
  },
  "language_info": {
   "codemirror_mode": {
    "name": "ipython",
    "version": 3
   },
   "file_extension": ".py",
   "mimetype": "text/x-python",
   "name": "python",
   "nbconvert_exporter": "python",
   "pygments_lexer": "ipython3",
   "version": "3.11.5"
  }
 },
 "nbformat": 4,
 "nbformat_minor": 5
}
